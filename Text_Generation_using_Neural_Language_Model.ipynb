{
  "nbformat": 4,
  "nbformat_minor": 0,
  "metadata": {
    "colab": {
      "provenance": [],
      "gpuType": "T4"
    },
    "kernelspec": {
      "name": "python3",
      "display_name": "Python 3"
    },
    "accelerator": "GPU",
    "widgets": {
      "application/vnd.jupyter.widget-state+json": {
        "6646129a1dfd446ebea85d466f0c910b": {
          "model_module": "@jupyter-widgets/controls",
          "model_name": "HBoxModel",
          "model_module_version": "1.5.0",
          "state": {
            "_dom_classes": [],
            "_model_module": "@jupyter-widgets/controls",
            "_model_module_version": "1.5.0",
            "_model_name": "HBoxModel",
            "_view_count": null,
            "_view_module": "@jupyter-widgets/controls",
            "_view_module_version": "1.5.0",
            "_view_name": "HBoxView",
            "box_style": "",
            "children": [
              "IPY_MODEL_44bcae138a454bf790600a46710ece54",
              "IPY_MODEL_5eebc50b52be47d5b3c51b577c24d3e6",
              "IPY_MODEL_0650d0f652c7483a91f19cac78dd93bc"
            ],
            "layout": "IPY_MODEL_ddf76b00a8024b019048ab14673d6fce"
          }
        },
        "44bcae138a454bf790600a46710ece54": {
          "model_module": "@jupyter-widgets/controls",
          "model_name": "HTMLModel",
          "model_module_version": "1.5.0",
          "state": {
            "_dom_classes": [],
            "_model_module": "@jupyter-widgets/controls",
            "_model_module_version": "1.5.0",
            "_model_name": "HTMLModel",
            "_view_count": null,
            "_view_module": "@jupyter-widgets/controls",
            "_view_module_version": "1.5.0",
            "_view_name": "HTMLView",
            "description": "",
            "description_tooltip": null,
            "layout": "IPY_MODEL_3d9de5d7c33d47508c4b0927b6a8b6d0",
            "placeholder": "​",
            "style": "IPY_MODEL_dd71dff12e5048fb886872c31000e195",
            "value": "100%"
          }
        },
        "5eebc50b52be47d5b3c51b577c24d3e6": {
          "model_module": "@jupyter-widgets/controls",
          "model_name": "FloatProgressModel",
          "model_module_version": "1.5.0",
          "state": {
            "_dom_classes": [],
            "_model_module": "@jupyter-widgets/controls",
            "_model_module_version": "1.5.0",
            "_model_name": "FloatProgressModel",
            "_view_count": null,
            "_view_module": "@jupyter-widgets/controls",
            "_view_module_version": "1.5.0",
            "_view_name": "ProgressView",
            "bar_style": "success",
            "description": "",
            "description_tooltip": null,
            "layout": "IPY_MODEL_3a3c7e071ad3488abafddacfa2a4b2e8",
            "max": 64776,
            "min": 0,
            "orientation": "horizontal",
            "style": "IPY_MODEL_e9a5d5e657764736a048eab232532742",
            "value": 64776
          }
        },
        "0650d0f652c7483a91f19cac78dd93bc": {
          "model_module": "@jupyter-widgets/controls",
          "model_name": "HTMLModel",
          "model_module_version": "1.5.0",
          "state": {
            "_dom_classes": [],
            "_model_module": "@jupyter-widgets/controls",
            "_model_module_version": "1.5.0",
            "_model_name": "HTMLModel",
            "_view_count": null,
            "_view_module": "@jupyter-widgets/controls",
            "_view_module_version": "1.5.0",
            "_view_name": "HTMLView",
            "description": "",
            "description_tooltip": null,
            "layout": "IPY_MODEL_9cd8d1fd16ee4d3e9a4f3ae2f5e68b46",
            "placeholder": "​",
            "style": "IPY_MODEL_4326878b386941c09f541371ca974282",
            "value": " 64776/64776 [00:24&lt;00:00, 3213.51it/s]"
          }
        },
        "ddf76b00a8024b019048ab14673d6fce": {
          "model_module": "@jupyter-widgets/base",
          "model_name": "LayoutModel",
          "model_module_version": "1.2.0",
          "state": {
            "_model_module": "@jupyter-widgets/base",
            "_model_module_version": "1.2.0",
            "_model_name": "LayoutModel",
            "_view_count": null,
            "_view_module": "@jupyter-widgets/base",
            "_view_module_version": "1.2.0",
            "_view_name": "LayoutView",
            "align_content": null,
            "align_items": null,
            "align_self": null,
            "border": null,
            "bottom": null,
            "display": null,
            "flex": null,
            "flex_flow": null,
            "grid_area": null,
            "grid_auto_columns": null,
            "grid_auto_flow": null,
            "grid_auto_rows": null,
            "grid_column": null,
            "grid_gap": null,
            "grid_row": null,
            "grid_template_areas": null,
            "grid_template_columns": null,
            "grid_template_rows": null,
            "height": null,
            "justify_content": null,
            "justify_items": null,
            "left": null,
            "margin": null,
            "max_height": null,
            "max_width": null,
            "min_height": null,
            "min_width": null,
            "object_fit": null,
            "object_position": null,
            "order": null,
            "overflow": null,
            "overflow_x": null,
            "overflow_y": null,
            "padding": null,
            "right": null,
            "top": null,
            "visibility": null,
            "width": null
          }
        },
        "3d9de5d7c33d47508c4b0927b6a8b6d0": {
          "model_module": "@jupyter-widgets/base",
          "model_name": "LayoutModel",
          "model_module_version": "1.2.0",
          "state": {
            "_model_module": "@jupyter-widgets/base",
            "_model_module_version": "1.2.0",
            "_model_name": "LayoutModel",
            "_view_count": null,
            "_view_module": "@jupyter-widgets/base",
            "_view_module_version": "1.2.0",
            "_view_name": "LayoutView",
            "align_content": null,
            "align_items": null,
            "align_self": null,
            "border": null,
            "bottom": null,
            "display": null,
            "flex": null,
            "flex_flow": null,
            "grid_area": null,
            "grid_auto_columns": null,
            "grid_auto_flow": null,
            "grid_auto_rows": null,
            "grid_column": null,
            "grid_gap": null,
            "grid_row": null,
            "grid_template_areas": null,
            "grid_template_columns": null,
            "grid_template_rows": null,
            "height": null,
            "justify_content": null,
            "justify_items": null,
            "left": null,
            "margin": null,
            "max_height": null,
            "max_width": null,
            "min_height": null,
            "min_width": null,
            "object_fit": null,
            "object_position": null,
            "order": null,
            "overflow": null,
            "overflow_x": null,
            "overflow_y": null,
            "padding": null,
            "right": null,
            "top": null,
            "visibility": null,
            "width": null
          }
        },
        "dd71dff12e5048fb886872c31000e195": {
          "model_module": "@jupyter-widgets/controls",
          "model_name": "DescriptionStyleModel",
          "model_module_version": "1.5.0",
          "state": {
            "_model_module": "@jupyter-widgets/controls",
            "_model_module_version": "1.5.0",
            "_model_name": "DescriptionStyleModel",
            "_view_count": null,
            "_view_module": "@jupyter-widgets/base",
            "_view_module_version": "1.2.0",
            "_view_name": "StyleView",
            "description_width": ""
          }
        },
        "3a3c7e071ad3488abafddacfa2a4b2e8": {
          "model_module": "@jupyter-widgets/base",
          "model_name": "LayoutModel",
          "model_module_version": "1.2.0",
          "state": {
            "_model_module": "@jupyter-widgets/base",
            "_model_module_version": "1.2.0",
            "_model_name": "LayoutModel",
            "_view_count": null,
            "_view_module": "@jupyter-widgets/base",
            "_view_module_version": "1.2.0",
            "_view_name": "LayoutView",
            "align_content": null,
            "align_items": null,
            "align_self": null,
            "border": null,
            "bottom": null,
            "display": null,
            "flex": null,
            "flex_flow": null,
            "grid_area": null,
            "grid_auto_columns": null,
            "grid_auto_flow": null,
            "grid_auto_rows": null,
            "grid_column": null,
            "grid_gap": null,
            "grid_row": null,
            "grid_template_areas": null,
            "grid_template_columns": null,
            "grid_template_rows": null,
            "height": null,
            "justify_content": null,
            "justify_items": null,
            "left": null,
            "margin": null,
            "max_height": null,
            "max_width": null,
            "min_height": null,
            "min_width": null,
            "object_fit": null,
            "object_position": null,
            "order": null,
            "overflow": null,
            "overflow_x": null,
            "overflow_y": null,
            "padding": null,
            "right": null,
            "top": null,
            "visibility": null,
            "width": null
          }
        },
        "e9a5d5e657764736a048eab232532742": {
          "model_module": "@jupyter-widgets/controls",
          "model_name": "ProgressStyleModel",
          "model_module_version": "1.5.0",
          "state": {
            "_model_module": "@jupyter-widgets/controls",
            "_model_module_version": "1.5.0",
            "_model_name": "ProgressStyleModel",
            "_view_count": null,
            "_view_module": "@jupyter-widgets/base",
            "_view_module_version": "1.2.0",
            "_view_name": "StyleView",
            "bar_color": null,
            "description_width": ""
          }
        },
        "9cd8d1fd16ee4d3e9a4f3ae2f5e68b46": {
          "model_module": "@jupyter-widgets/base",
          "model_name": "LayoutModel",
          "model_module_version": "1.2.0",
          "state": {
            "_model_module": "@jupyter-widgets/base",
            "_model_module_version": "1.2.0",
            "_model_name": "LayoutModel",
            "_view_count": null,
            "_view_module": "@jupyter-widgets/base",
            "_view_module_version": "1.2.0",
            "_view_name": "LayoutView",
            "align_content": null,
            "align_items": null,
            "align_self": null,
            "border": null,
            "bottom": null,
            "display": null,
            "flex": null,
            "flex_flow": null,
            "grid_area": null,
            "grid_auto_columns": null,
            "grid_auto_flow": null,
            "grid_auto_rows": null,
            "grid_column": null,
            "grid_gap": null,
            "grid_row": null,
            "grid_template_areas": null,
            "grid_template_columns": null,
            "grid_template_rows": null,
            "height": null,
            "justify_content": null,
            "justify_items": null,
            "left": null,
            "margin": null,
            "max_height": null,
            "max_width": null,
            "min_height": null,
            "min_width": null,
            "object_fit": null,
            "object_position": null,
            "order": null,
            "overflow": null,
            "overflow_x": null,
            "overflow_y": null,
            "padding": null,
            "right": null,
            "top": null,
            "visibility": null,
            "width": null
          }
        },
        "4326878b386941c09f541371ca974282": {
          "model_module": "@jupyter-widgets/controls",
          "model_name": "DescriptionStyleModel",
          "model_module_version": "1.5.0",
          "state": {
            "_model_module": "@jupyter-widgets/controls",
            "_model_module_version": "1.5.0",
            "_model_name": "DescriptionStyleModel",
            "_view_count": null,
            "_view_module": "@jupyter-widgets/base",
            "_view_module_version": "1.2.0",
            "_view_name": "StyleView",
            "description_width": ""
          }
        }
      }
    }
  },
  "cells": [
    {
      "cell_type": "markdown",
      "metadata": {
        "id": "w2p_bqZM3WYu"
      },
      "source": [
        "# Table of Contents\n",
        "\n",
        "1. Import Libraries\n",
        "2. Load Dataset\n",
        "3. Preprocessing and Exploring Text Data\n",
        "  \n",
        "  3.1 Text Cleaning\n",
        "  \n",
        "  3.2 Finding Word Count\n",
        "\n",
        "  3.3 Find and Replace Rare Words with \"Unknown\" Token\n",
        "\n",
        "4. Data Preparation\n",
        "\n",
        "  4.1 Prepare Sequences\n",
        "\n",
        "  4.2 Create Token-Integer Mappings\n",
        "\n",
        "  4.3 Split Data into Train and Validation Sets\n",
        "\n",
        "  4.4 Pad Sequences\n",
        "\n",
        "  4.5 Convert Text Sequences to Integer Sequences\n",
        "5. Model Building\n",
        "\n",
        "  5.1 Define Model Architecture\n",
        "  \n",
        "  5.2 Start Model Training\n",
        "6. Text Generation"
      ]
    },
    {
      "cell_type": "markdown",
      "metadata": {
        "id": "sZoPOnsX8uPS"
      },
      "source": [
        "# 1. Import Libraries"
      ]
    },
    {
      "cell_type": "code",
      "metadata": {
        "id": "Z_CCxOEI4iZK"
      },
      "source": [
        "import pandas as pd\n",
        "import numpy as np\n",
        "import pickle\n",
        "import re\n",
        "import random\n",
        "from tqdm import tqdm_notebook\n",
        "\n",
        "import torch\n",
        "from torch import nn\n",
        "import torch.nn.functional as F"
      ],
      "execution_count": 1,
      "outputs": []
    },
    {
      "cell_type": "code",
      "metadata": {
        "id": "ypl18CrLFmt6",
        "colab": {
          "base_uri": "https://localhost:8080/"
        },
        "outputId": "2782308a-5580-4588-a0b5-39ba97a7e9e6"
      },
      "source": [
        "# reproducing same results\n",
        "SEED = 2019\n",
        "\n",
        "# torch\n",
        "torch.manual_seed(SEED)"
      ],
      "execution_count": 2,
      "outputs": [
        {
          "output_type": "execute_result",
          "data": {
            "text/plain": [
              "<torch._C.Generator at 0x7884dd53dcb0>"
            ]
          },
          "metadata": {},
          "execution_count": 2
        }
      ]
    },
    {
      "cell_type": "markdown",
      "metadata": {
        "id": "5_5gPvXxWjru"
      },
      "source": [
        "# 2. Load Dataset"
      ]
    },
    {
      "cell_type": "code",
      "metadata": {
        "id": "RTcAv8MwCUep"
      },
      "source": [
        "# open text file and read in data\n",
        "with open(\"dialogs_dataset\", \"rb\") as f:\n",
        "  dialogs = pickle.load(f)"
      ],
      "execution_count": 4,
      "outputs": []
    },
    {
      "cell_type": "markdown",
      "metadata": {
        "id": "OqP9ohFb3-fM"
      },
      "source": [
        "Note: This is a subset of the Taskmaster dataset available under the Creative Commons Attribution 4.0 License. A full copy of the license can be found at https://creativecommons.org/licenses/by/4.0/. You can access the full dataset from [here](https://github.com/google-research-datasets/Taskmaster/tree/master/TM-1-2019).  "
      ]
    },
    {
      "cell_type": "code",
      "metadata": {
        "id": "81_SXWZlE6Zb",
        "colab": {
          "base_uri": "https://localhost:8080/"
        },
        "outputId": "547df4e3-5bb0-4fa3-f632-d40f9c0fbe1a"
      },
      "source": [
        "# number of text sequences\n",
        "len(dialogs)"
      ],
      "execution_count": 5,
      "outputs": [
        {
          "output_type": "execute_result",
          "data": {
            "text/plain": [
              "64776"
            ]
          },
          "metadata": {},
          "execution_count": 5
        }
      ]
    },
    {
      "cell_type": "code",
      "metadata": {
        "id": "zSyAzbttAqP2",
        "colab": {
          "base_uri": "https://localhost:8080/"
        },
        "outputId": "1ef4fd77-98af-43ba-fb4c-0ed99cec7913"
      },
      "source": [
        "# print 10 random dialogs\n",
        "random.sample(dialogs, 10)"
      ],
      "execution_count": 6,
      "outputs": [
        {
          "output_type": "execute_result",
          "data": {
            "text/plain": [
              "[' Maybe you can get into the database and see when I can get in',\n",
              " ' When do they open?',\n",
              " 'Yes, that is correct',\n",
              " 'Okay can I bring it in next Monday?',\n",
              " 'I want to have a pizza ordered from Papa Johns',\n",
              " 'I am really hungry and in the mood for a pizza',\n",
              " 'I want to buy it in Tulsa, Oklahoma',\n",
              " 'Hi, Call Calda and order a pizza',\n",
              " \"Yes, that's right\",\n",
              " 'Just the pizza is fine']"
            ]
          },
          "metadata": {},
          "execution_count": 6
        }
      ]
    },
    {
      "cell_type": "markdown",
      "metadata": {
        "id": "kGGTGRUDW9I3"
      },
      "source": [
        "# 3. Preprocessing and Exploring Text Data"
      ]
    },
    {
      "cell_type": "markdown",
      "metadata": {
        "id": "crvUl_ngM8sb"
      },
      "source": [
        "## 3.1 Text Cleaning"
      ]
    },
    {
      "cell_type": "code",
      "metadata": {
        "id": "kUuUKZgUFhkl"
      },
      "source": [
        "# text cleaning\n",
        "dialogs_clean = []\n",
        "\n",
        "for i in dialogs:\n",
        "  # remove everything except alphabets\n",
        "  i = re.sub(\"[^a-zA-Z' ]\", \"\", i)\n",
        "  # convert text to lowercase\n",
        "  i = i.lower()\n",
        "  # add cleaned text to the list\n",
        "  dialogs_clean.append(i)"
      ],
      "execution_count": 7,
      "outputs": []
    },
    {
      "cell_type": "code",
      "metadata": {
        "id": "DgZwFK1eSjkN",
        "colab": {
          "base_uri": "https://localhost:8080/"
        },
        "outputId": "726ede15-595e-46fc-a4d2-9267dc0f5d5b"
      },
      "source": [
        "random.sample(dialogs_clean, 10)"
      ],
      "execution_count": 8,
      "outputs": [
        {
          "output_type": "execute_result",
          "data": {
            "text/plain": [
              "['yes but i need go back home at that point',\n",
              " 'what is the eta for the order',\n",
              " 'is there an evening show tonight',\n",
              " \"that's perfect thank you\",\n",
              " ' thanks so much ',\n",
              " 'yes that works',\n",
              " \"i'll take it\",\n",
              " 'yes everything is linked already',\n",
              " ' can i get you to swing by and get me a coffee on the way back to the house please ',\n",
              " \"i'll take the next available after that\"]"
            ]
          },
          "metadata": {},
          "execution_count": 8
        }
      ]
    },
    {
      "cell_type": "markdown",
      "metadata": {
        "id": "mYDzFQVvNA7_"
      },
      "source": [
        "\n",
        "## 3.2 Finding Word Count"
      ]
    },
    {
      "cell_type": "code",
      "metadata": {
        "id": "V1hrCYRp11UI"
      },
      "source": [
        "# get list of all the words\n",
        "all_words = \" \".join(dialogs_clean).split()\n",
        "\n",
        "words_dict = {}\n",
        "\n",
        "# add word-count pair to the dictionary\n",
        "for word in all_words:\n",
        "  # check if the word is already in dictionary\n",
        "  if word in words_dict:\n",
        "    # increment count of word by 1\n",
        "    words_dict[word] = words_dict[word] + 1\n",
        "  else:\n",
        "    # add the word to dictionary with count 1\n",
        "    words_dict[word] = 1"
      ],
      "execution_count": 9,
      "outputs": []
    },
    {
      "cell_type": "code",
      "metadata": {
        "id": "gNxSGPubWaqA"
      },
      "source": [
        "# prepare a dataframe\n",
        "words_df = pd.DataFrame({'word':list(words_dict.keys()), 'count':list(words_dict.values())})\n",
        "\n",
        "# sort words by their count in increasing order\n",
        "words_df = words_df.sort_values(by = ['count'])\n",
        "\n",
        "# reset dataframe index\n",
        "words_df.reset_index(inplace = True, drop=True)"
      ],
      "execution_count": 10,
      "outputs": []
    },
    {
      "cell_type": "code",
      "metadata": {
        "id": "KVPbPsSWo-Ak",
        "colab": {
          "base_uri": "https://localhost:8080/"
        },
        "outputId": "9fd95a96-278a-4c34-95ce-ef80f10912e8"
      },
      "source": [
        "# vocabulary size\n",
        "len(words_df)"
      ],
      "execution_count": 11,
      "outputs": [
        {
          "output_type": "execute_result",
          "data": {
            "text/plain": [
              "11147"
            ]
          },
          "metadata": {},
          "execution_count": 11
        }
      ]
    },
    {
      "cell_type": "code",
      "metadata": {
        "id": "JTwmmOiEXBHt",
        "colab": {
          "base_uri": "https://localhost:8080/",
          "height": 206
        },
        "outputId": "67955cc6-009a-47e2-cc4b-18894533ee5c"
      },
      "source": [
        "words_df.head()"
      ],
      "execution_count": 12,
      "outputs": [
        {
          "output_type": "execute_result",
          "data": {
            "text/plain": [
              "         word  count\n",
              "0     tornado      1\n",
              "1         vfw      1\n",
              "2      evelyn      1\n",
              "3  stoplights      1\n",
              "4       vicky      1"
            ],
            "text/html": [
              "\n",
              "  <div id=\"df-1f694bd9-4e30-4993-80cf-ad6014a948a9\" class=\"colab-df-container\">\n",
              "    <div>\n",
              "<style scoped>\n",
              "    .dataframe tbody tr th:only-of-type {\n",
              "        vertical-align: middle;\n",
              "    }\n",
              "\n",
              "    .dataframe tbody tr th {\n",
              "        vertical-align: top;\n",
              "    }\n",
              "\n",
              "    .dataframe thead th {\n",
              "        text-align: right;\n",
              "    }\n",
              "</style>\n",
              "<table border=\"1\" class=\"dataframe\">\n",
              "  <thead>\n",
              "    <tr style=\"text-align: right;\">\n",
              "      <th></th>\n",
              "      <th>word</th>\n",
              "      <th>count</th>\n",
              "    </tr>\n",
              "  </thead>\n",
              "  <tbody>\n",
              "    <tr>\n",
              "      <th>0</th>\n",
              "      <td>tornado</td>\n",
              "      <td>1</td>\n",
              "    </tr>\n",
              "    <tr>\n",
              "      <th>1</th>\n",
              "      <td>vfw</td>\n",
              "      <td>1</td>\n",
              "    </tr>\n",
              "    <tr>\n",
              "      <th>2</th>\n",
              "      <td>evelyn</td>\n",
              "      <td>1</td>\n",
              "    </tr>\n",
              "    <tr>\n",
              "      <th>3</th>\n",
              "      <td>stoplights</td>\n",
              "      <td>1</td>\n",
              "    </tr>\n",
              "    <tr>\n",
              "      <th>4</th>\n",
              "      <td>vicky</td>\n",
              "      <td>1</td>\n",
              "    </tr>\n",
              "  </tbody>\n",
              "</table>\n",
              "</div>\n",
              "    <div class=\"colab-df-buttons\">\n",
              "\n",
              "  <div class=\"colab-df-container\">\n",
              "    <button class=\"colab-df-convert\" onclick=\"convertToInteractive('df-1f694bd9-4e30-4993-80cf-ad6014a948a9')\"\n",
              "            title=\"Convert this dataframe to an interactive table.\"\n",
              "            style=\"display:none;\">\n",
              "\n",
              "  <svg xmlns=\"http://www.w3.org/2000/svg\" height=\"24px\" viewBox=\"0 -960 960 960\">\n",
              "    <path d=\"M120-120v-720h720v720H120Zm60-500h600v-160H180v160Zm220 220h160v-160H400v160Zm0 220h160v-160H400v160ZM180-400h160v-160H180v160Zm440 0h160v-160H620v160ZM180-180h160v-160H180v160Zm440 0h160v-160H620v160Z\"/>\n",
              "  </svg>\n",
              "    </button>\n",
              "\n",
              "  <style>\n",
              "    .colab-df-container {\n",
              "      display:flex;\n",
              "      gap: 12px;\n",
              "    }\n",
              "\n",
              "    .colab-df-convert {\n",
              "      background-color: #E8F0FE;\n",
              "      border: none;\n",
              "      border-radius: 50%;\n",
              "      cursor: pointer;\n",
              "      display: none;\n",
              "      fill: #1967D2;\n",
              "      height: 32px;\n",
              "      padding: 0 0 0 0;\n",
              "      width: 32px;\n",
              "    }\n",
              "\n",
              "    .colab-df-convert:hover {\n",
              "      background-color: #E2EBFA;\n",
              "      box-shadow: 0px 1px 2px rgba(60, 64, 67, 0.3), 0px 1px 3px 1px rgba(60, 64, 67, 0.15);\n",
              "      fill: #174EA6;\n",
              "    }\n",
              "\n",
              "    .colab-df-buttons div {\n",
              "      margin-bottom: 4px;\n",
              "    }\n",
              "\n",
              "    [theme=dark] .colab-df-convert {\n",
              "      background-color: #3B4455;\n",
              "      fill: #D2E3FC;\n",
              "    }\n",
              "\n",
              "    [theme=dark] .colab-df-convert:hover {\n",
              "      background-color: #434B5C;\n",
              "      box-shadow: 0px 1px 3px 1px rgba(0, 0, 0, 0.15);\n",
              "      filter: drop-shadow(0px 1px 2px rgba(0, 0, 0, 0.3));\n",
              "      fill: #FFFFFF;\n",
              "    }\n",
              "  </style>\n",
              "\n",
              "    <script>\n",
              "      const buttonEl =\n",
              "        document.querySelector('#df-1f694bd9-4e30-4993-80cf-ad6014a948a9 button.colab-df-convert');\n",
              "      buttonEl.style.display =\n",
              "        google.colab.kernel.accessAllowed ? 'block' : 'none';\n",
              "\n",
              "      async function convertToInteractive(key) {\n",
              "        const element = document.querySelector('#df-1f694bd9-4e30-4993-80cf-ad6014a948a9');\n",
              "        const dataTable =\n",
              "          await google.colab.kernel.invokeFunction('convertToInteractive',\n",
              "                                                    [key], {});\n",
              "        if (!dataTable) return;\n",
              "\n",
              "        const docLinkHtml = 'Like what you see? Visit the ' +\n",
              "          '<a target=\"_blank\" href=https://colab.research.google.com/notebooks/data_table.ipynb>data table notebook</a>'\n",
              "          + ' to learn more about interactive tables.';\n",
              "        element.innerHTML = '';\n",
              "        dataTable['output_type'] = 'display_data';\n",
              "        await google.colab.output.renderOutput(dataTable, element);\n",
              "        const docLink = document.createElement('div');\n",
              "        docLink.innerHTML = docLinkHtml;\n",
              "        element.appendChild(docLink);\n",
              "      }\n",
              "    </script>\n",
              "  </div>\n",
              "\n",
              "\n",
              "<div id=\"df-b547ab61-54c2-4ed9-b18a-84fe1c89e2e9\">\n",
              "  <button class=\"colab-df-quickchart\" onclick=\"quickchart('df-b547ab61-54c2-4ed9-b18a-84fe1c89e2e9')\"\n",
              "            title=\"Suggest charts\"\n",
              "            style=\"display:none;\">\n",
              "\n",
              "<svg xmlns=\"http://www.w3.org/2000/svg\" height=\"24px\"viewBox=\"0 0 24 24\"\n",
              "     width=\"24px\">\n",
              "    <g>\n",
              "        <path d=\"M19 3H5c-1.1 0-2 .9-2 2v14c0 1.1.9 2 2 2h14c1.1 0 2-.9 2-2V5c0-1.1-.9-2-2-2zM9 17H7v-7h2v7zm4 0h-2V7h2v10zm4 0h-2v-4h2v4z\"/>\n",
              "    </g>\n",
              "</svg>\n",
              "  </button>\n",
              "\n",
              "<style>\n",
              "  .colab-df-quickchart {\n",
              "      --bg-color: #E8F0FE;\n",
              "      --fill-color: #1967D2;\n",
              "      --hover-bg-color: #E2EBFA;\n",
              "      --hover-fill-color: #174EA6;\n",
              "      --disabled-fill-color: #AAA;\n",
              "      --disabled-bg-color: #DDD;\n",
              "  }\n",
              "\n",
              "  [theme=dark] .colab-df-quickchart {\n",
              "      --bg-color: #3B4455;\n",
              "      --fill-color: #D2E3FC;\n",
              "      --hover-bg-color: #434B5C;\n",
              "      --hover-fill-color: #FFFFFF;\n",
              "      --disabled-bg-color: #3B4455;\n",
              "      --disabled-fill-color: #666;\n",
              "  }\n",
              "\n",
              "  .colab-df-quickchart {\n",
              "    background-color: var(--bg-color);\n",
              "    border: none;\n",
              "    border-radius: 50%;\n",
              "    cursor: pointer;\n",
              "    display: none;\n",
              "    fill: var(--fill-color);\n",
              "    height: 32px;\n",
              "    padding: 0;\n",
              "    width: 32px;\n",
              "  }\n",
              "\n",
              "  .colab-df-quickchart:hover {\n",
              "    background-color: var(--hover-bg-color);\n",
              "    box-shadow: 0 1px 2px rgba(60, 64, 67, 0.3), 0 1px 3px 1px rgba(60, 64, 67, 0.15);\n",
              "    fill: var(--button-hover-fill-color);\n",
              "  }\n",
              "\n",
              "  .colab-df-quickchart-complete:disabled,\n",
              "  .colab-df-quickchart-complete:disabled:hover {\n",
              "    background-color: var(--disabled-bg-color);\n",
              "    fill: var(--disabled-fill-color);\n",
              "    box-shadow: none;\n",
              "  }\n",
              "\n",
              "  .colab-df-spinner {\n",
              "    border: 2px solid var(--fill-color);\n",
              "    border-color: transparent;\n",
              "    border-bottom-color: var(--fill-color);\n",
              "    animation:\n",
              "      spin 1s steps(1) infinite;\n",
              "  }\n",
              "\n",
              "  @keyframes spin {\n",
              "    0% {\n",
              "      border-color: transparent;\n",
              "      border-bottom-color: var(--fill-color);\n",
              "      border-left-color: var(--fill-color);\n",
              "    }\n",
              "    20% {\n",
              "      border-color: transparent;\n",
              "      border-left-color: var(--fill-color);\n",
              "      border-top-color: var(--fill-color);\n",
              "    }\n",
              "    30% {\n",
              "      border-color: transparent;\n",
              "      border-left-color: var(--fill-color);\n",
              "      border-top-color: var(--fill-color);\n",
              "      border-right-color: var(--fill-color);\n",
              "    }\n",
              "    40% {\n",
              "      border-color: transparent;\n",
              "      border-right-color: var(--fill-color);\n",
              "      border-top-color: var(--fill-color);\n",
              "    }\n",
              "    60% {\n",
              "      border-color: transparent;\n",
              "      border-right-color: var(--fill-color);\n",
              "    }\n",
              "    80% {\n",
              "      border-color: transparent;\n",
              "      border-right-color: var(--fill-color);\n",
              "      border-bottom-color: var(--fill-color);\n",
              "    }\n",
              "    90% {\n",
              "      border-color: transparent;\n",
              "      border-bottom-color: var(--fill-color);\n",
              "    }\n",
              "  }\n",
              "</style>\n",
              "\n",
              "  <script>\n",
              "    async function quickchart(key) {\n",
              "      const quickchartButtonEl =\n",
              "        document.querySelector('#' + key + ' button');\n",
              "      quickchartButtonEl.disabled = true;  // To prevent multiple clicks.\n",
              "      quickchartButtonEl.classList.add('colab-df-spinner');\n",
              "      try {\n",
              "        const charts = await google.colab.kernel.invokeFunction(\n",
              "            'suggestCharts', [key], {});\n",
              "      } catch (error) {\n",
              "        console.error('Error during call to suggestCharts:', error);\n",
              "      }\n",
              "      quickchartButtonEl.classList.remove('colab-df-spinner');\n",
              "      quickchartButtonEl.classList.add('colab-df-quickchart-complete');\n",
              "    }\n",
              "    (() => {\n",
              "      let quickchartButtonEl =\n",
              "        document.querySelector('#df-b547ab61-54c2-4ed9-b18a-84fe1c89e2e9 button');\n",
              "      quickchartButtonEl.style.display =\n",
              "        google.colab.kernel.accessAllowed ? 'block' : 'none';\n",
              "    })();\n",
              "  </script>\n",
              "</div>\n",
              "\n",
              "    </div>\n",
              "  </div>\n"
            ],
            "application/vnd.google.colaboratory.intrinsic+json": {
              "type": "dataframe",
              "variable_name": "words_df",
              "summary": "{\n  \"name\": \"words_df\",\n  \"rows\": 11147,\n  \"fields\": [\n    {\n      \"column\": \"word\",\n      \"properties\": {\n        \"dtype\": \"string\",\n        \"num_unique_values\": 11147,\n        \"samples\": [\n          \"january\",\n          \"gasket\",\n          \"laughs\"\n        ],\n        \"semantic_type\": \"\",\n        \"description\": \"\"\n      }\n    },\n    {\n      \"column\": \"count\",\n      \"properties\": {\n        \"dtype\": \"number\",\n        \"std\": 424,\n        \"min\": 1,\n        \"max\": 19654,\n        \"num_unique_values\": 430,\n        \"samples\": [\n          7709,\n          76,\n          199\n        ],\n        \"semantic_type\": \"\",\n        \"description\": \"\"\n      }\n    }\n  ]\n}"
            }
          },
          "metadata": {},
          "execution_count": 12
        }
      ]
    },
    {
      "cell_type": "code",
      "metadata": {
        "id": "EWJEto8TMPiq",
        "colab": {
          "base_uri": "https://localhost:8080/",
          "height": 206
        },
        "outputId": "e433bc4e-5733-4f2e-9a40-f3e4215ee3e1"
      },
      "source": [
        "words_df.tail()"
      ],
      "execution_count": 13,
      "outputs": [
        {
          "output_type": "execute_result",
          "data": {
            "text/plain": [
              "      word  count\n",
              "11142  you  11909\n",
              "11143    a  13380\n",
              "11144   to  14000\n",
              "11145  the  15406\n",
              "11146    i  19654"
            ],
            "text/html": [
              "\n",
              "  <div id=\"df-c29f2e09-302a-45f5-badd-86cb626c7b59\" class=\"colab-df-container\">\n",
              "    <div>\n",
              "<style scoped>\n",
              "    .dataframe tbody tr th:only-of-type {\n",
              "        vertical-align: middle;\n",
              "    }\n",
              "\n",
              "    .dataframe tbody tr th {\n",
              "        vertical-align: top;\n",
              "    }\n",
              "\n",
              "    .dataframe thead th {\n",
              "        text-align: right;\n",
              "    }\n",
              "</style>\n",
              "<table border=\"1\" class=\"dataframe\">\n",
              "  <thead>\n",
              "    <tr style=\"text-align: right;\">\n",
              "      <th></th>\n",
              "      <th>word</th>\n",
              "      <th>count</th>\n",
              "    </tr>\n",
              "  </thead>\n",
              "  <tbody>\n",
              "    <tr>\n",
              "      <th>11142</th>\n",
              "      <td>you</td>\n",
              "      <td>11909</td>\n",
              "    </tr>\n",
              "    <tr>\n",
              "      <th>11143</th>\n",
              "      <td>a</td>\n",
              "      <td>13380</td>\n",
              "    </tr>\n",
              "    <tr>\n",
              "      <th>11144</th>\n",
              "      <td>to</td>\n",
              "      <td>14000</td>\n",
              "    </tr>\n",
              "    <tr>\n",
              "      <th>11145</th>\n",
              "      <td>the</td>\n",
              "      <td>15406</td>\n",
              "    </tr>\n",
              "    <tr>\n",
              "      <th>11146</th>\n",
              "      <td>i</td>\n",
              "      <td>19654</td>\n",
              "    </tr>\n",
              "  </tbody>\n",
              "</table>\n",
              "</div>\n",
              "    <div class=\"colab-df-buttons\">\n",
              "\n",
              "  <div class=\"colab-df-container\">\n",
              "    <button class=\"colab-df-convert\" onclick=\"convertToInteractive('df-c29f2e09-302a-45f5-badd-86cb626c7b59')\"\n",
              "            title=\"Convert this dataframe to an interactive table.\"\n",
              "            style=\"display:none;\">\n",
              "\n",
              "  <svg xmlns=\"http://www.w3.org/2000/svg\" height=\"24px\" viewBox=\"0 -960 960 960\">\n",
              "    <path d=\"M120-120v-720h720v720H120Zm60-500h600v-160H180v160Zm220 220h160v-160H400v160Zm0 220h160v-160H400v160ZM180-400h160v-160H180v160Zm440 0h160v-160H620v160ZM180-180h160v-160H180v160Zm440 0h160v-160H620v160Z\"/>\n",
              "  </svg>\n",
              "    </button>\n",
              "\n",
              "  <style>\n",
              "    .colab-df-container {\n",
              "      display:flex;\n",
              "      gap: 12px;\n",
              "    }\n",
              "\n",
              "    .colab-df-convert {\n",
              "      background-color: #E8F0FE;\n",
              "      border: none;\n",
              "      border-radius: 50%;\n",
              "      cursor: pointer;\n",
              "      display: none;\n",
              "      fill: #1967D2;\n",
              "      height: 32px;\n",
              "      padding: 0 0 0 0;\n",
              "      width: 32px;\n",
              "    }\n",
              "\n",
              "    .colab-df-convert:hover {\n",
              "      background-color: #E2EBFA;\n",
              "      box-shadow: 0px 1px 2px rgba(60, 64, 67, 0.3), 0px 1px 3px 1px rgba(60, 64, 67, 0.15);\n",
              "      fill: #174EA6;\n",
              "    }\n",
              "\n",
              "    .colab-df-buttons div {\n",
              "      margin-bottom: 4px;\n",
              "    }\n",
              "\n",
              "    [theme=dark] .colab-df-convert {\n",
              "      background-color: #3B4455;\n",
              "      fill: #D2E3FC;\n",
              "    }\n",
              "\n",
              "    [theme=dark] .colab-df-convert:hover {\n",
              "      background-color: #434B5C;\n",
              "      box-shadow: 0px 1px 3px 1px rgba(0, 0, 0, 0.15);\n",
              "      filter: drop-shadow(0px 1px 2px rgba(0, 0, 0, 0.3));\n",
              "      fill: #FFFFFF;\n",
              "    }\n",
              "  </style>\n",
              "\n",
              "    <script>\n",
              "      const buttonEl =\n",
              "        document.querySelector('#df-c29f2e09-302a-45f5-badd-86cb626c7b59 button.colab-df-convert');\n",
              "      buttonEl.style.display =\n",
              "        google.colab.kernel.accessAllowed ? 'block' : 'none';\n",
              "\n",
              "      async function convertToInteractive(key) {\n",
              "        const element = document.querySelector('#df-c29f2e09-302a-45f5-badd-86cb626c7b59');\n",
              "        const dataTable =\n",
              "          await google.colab.kernel.invokeFunction('convertToInteractive',\n",
              "                                                    [key], {});\n",
              "        if (!dataTable) return;\n",
              "\n",
              "        const docLinkHtml = 'Like what you see? Visit the ' +\n",
              "          '<a target=\"_blank\" href=https://colab.research.google.com/notebooks/data_table.ipynb>data table notebook</a>'\n",
              "          + ' to learn more about interactive tables.';\n",
              "        element.innerHTML = '';\n",
              "        dataTable['output_type'] = 'display_data';\n",
              "        await google.colab.output.renderOutput(dataTable, element);\n",
              "        const docLink = document.createElement('div');\n",
              "        docLink.innerHTML = docLinkHtml;\n",
              "        element.appendChild(docLink);\n",
              "      }\n",
              "    </script>\n",
              "  </div>\n",
              "\n",
              "\n",
              "<div id=\"df-f8b8fb0d-15b9-41a3-81b9-f147295c5a63\">\n",
              "  <button class=\"colab-df-quickchart\" onclick=\"quickchart('df-f8b8fb0d-15b9-41a3-81b9-f147295c5a63')\"\n",
              "            title=\"Suggest charts\"\n",
              "            style=\"display:none;\">\n",
              "\n",
              "<svg xmlns=\"http://www.w3.org/2000/svg\" height=\"24px\"viewBox=\"0 0 24 24\"\n",
              "     width=\"24px\">\n",
              "    <g>\n",
              "        <path d=\"M19 3H5c-1.1 0-2 .9-2 2v14c0 1.1.9 2 2 2h14c1.1 0 2-.9 2-2V5c0-1.1-.9-2-2-2zM9 17H7v-7h2v7zm4 0h-2V7h2v10zm4 0h-2v-4h2v4z\"/>\n",
              "    </g>\n",
              "</svg>\n",
              "  </button>\n",
              "\n",
              "<style>\n",
              "  .colab-df-quickchart {\n",
              "      --bg-color: #E8F0FE;\n",
              "      --fill-color: #1967D2;\n",
              "      --hover-bg-color: #E2EBFA;\n",
              "      --hover-fill-color: #174EA6;\n",
              "      --disabled-fill-color: #AAA;\n",
              "      --disabled-bg-color: #DDD;\n",
              "  }\n",
              "\n",
              "  [theme=dark] .colab-df-quickchart {\n",
              "      --bg-color: #3B4455;\n",
              "      --fill-color: #D2E3FC;\n",
              "      --hover-bg-color: #434B5C;\n",
              "      --hover-fill-color: #FFFFFF;\n",
              "      --disabled-bg-color: #3B4455;\n",
              "      --disabled-fill-color: #666;\n",
              "  }\n",
              "\n",
              "  .colab-df-quickchart {\n",
              "    background-color: var(--bg-color);\n",
              "    border: none;\n",
              "    border-radius: 50%;\n",
              "    cursor: pointer;\n",
              "    display: none;\n",
              "    fill: var(--fill-color);\n",
              "    height: 32px;\n",
              "    padding: 0;\n",
              "    width: 32px;\n",
              "  }\n",
              "\n",
              "  .colab-df-quickchart:hover {\n",
              "    background-color: var(--hover-bg-color);\n",
              "    box-shadow: 0 1px 2px rgba(60, 64, 67, 0.3), 0 1px 3px 1px rgba(60, 64, 67, 0.15);\n",
              "    fill: var(--button-hover-fill-color);\n",
              "  }\n",
              "\n",
              "  .colab-df-quickchart-complete:disabled,\n",
              "  .colab-df-quickchart-complete:disabled:hover {\n",
              "    background-color: var(--disabled-bg-color);\n",
              "    fill: var(--disabled-fill-color);\n",
              "    box-shadow: none;\n",
              "  }\n",
              "\n",
              "  .colab-df-spinner {\n",
              "    border: 2px solid var(--fill-color);\n",
              "    border-color: transparent;\n",
              "    border-bottom-color: var(--fill-color);\n",
              "    animation:\n",
              "      spin 1s steps(1) infinite;\n",
              "  }\n",
              "\n",
              "  @keyframes spin {\n",
              "    0% {\n",
              "      border-color: transparent;\n",
              "      border-bottom-color: var(--fill-color);\n",
              "      border-left-color: var(--fill-color);\n",
              "    }\n",
              "    20% {\n",
              "      border-color: transparent;\n",
              "      border-left-color: var(--fill-color);\n",
              "      border-top-color: var(--fill-color);\n",
              "    }\n",
              "    30% {\n",
              "      border-color: transparent;\n",
              "      border-left-color: var(--fill-color);\n",
              "      border-top-color: var(--fill-color);\n",
              "      border-right-color: var(--fill-color);\n",
              "    }\n",
              "    40% {\n",
              "      border-color: transparent;\n",
              "      border-right-color: var(--fill-color);\n",
              "      border-top-color: var(--fill-color);\n",
              "    }\n",
              "    60% {\n",
              "      border-color: transparent;\n",
              "      border-right-color: var(--fill-color);\n",
              "    }\n",
              "    80% {\n",
              "      border-color: transparent;\n",
              "      border-right-color: var(--fill-color);\n",
              "      border-bottom-color: var(--fill-color);\n",
              "    }\n",
              "    90% {\n",
              "      border-color: transparent;\n",
              "      border-bottom-color: var(--fill-color);\n",
              "    }\n",
              "  }\n",
              "</style>\n",
              "\n",
              "  <script>\n",
              "    async function quickchart(key) {\n",
              "      const quickchartButtonEl =\n",
              "        document.querySelector('#' + key + ' button');\n",
              "      quickchartButtonEl.disabled = true;  // To prevent multiple clicks.\n",
              "      quickchartButtonEl.classList.add('colab-df-spinner');\n",
              "      try {\n",
              "        const charts = await google.colab.kernel.invokeFunction(\n",
              "            'suggestCharts', [key], {});\n",
              "      } catch (error) {\n",
              "        console.error('Error during call to suggestCharts:', error);\n",
              "      }\n",
              "      quickchartButtonEl.classList.remove('colab-df-spinner');\n",
              "      quickchartButtonEl.classList.add('colab-df-quickchart-complete');\n",
              "    }\n",
              "    (() => {\n",
              "      let quickchartButtonEl =\n",
              "        document.querySelector('#df-f8b8fb0d-15b9-41a3-81b9-f147295c5a63 button');\n",
              "      quickchartButtonEl.style.display =\n",
              "        google.colab.kernel.accessAllowed ? 'block' : 'none';\n",
              "    })();\n",
              "  </script>\n",
              "</div>\n",
              "\n",
              "    </div>\n",
              "  </div>\n"
            ],
            "application/vnd.google.colaboratory.intrinsic+json": {
              "type": "dataframe",
              "summary": "{\n  \"name\": \"words_df\",\n  \"rows\": 5,\n  \"fields\": [\n    {\n      \"column\": \"word\",\n      \"properties\": {\n        \"dtype\": \"string\",\n        \"num_unique_values\": 5,\n        \"samples\": [\n          \"a\",\n          \"i\",\n          \"to\"\n        ],\n        \"semantic_type\": \"\",\n        \"description\": \"\"\n      }\n    },\n    {\n      \"column\": \"count\",\n      \"properties\": {\n        \"dtype\": \"number\",\n        \"std\": 2954,\n        \"min\": 11909,\n        \"max\": 19654,\n        \"num_unique_values\": 5,\n        \"samples\": [\n          13380,\n          19654,\n          14000\n        ],\n        \"semantic_type\": \"\",\n        \"description\": \"\"\n      }\n    }\n  ]\n}"
            }
          },
          "metadata": {},
          "execution_count": 13
        }
      ]
    },
    {
      "cell_type": "markdown",
      "metadata": {
        "id": "nTcWd-pYFRob"
      },
      "source": [
        "## 3.3 Find and Replace Rare Words with \"Unknown\" Token"
      ]
    },
    {
      "cell_type": "code",
      "metadata": {
        "id": "1iC4ztG3XIP3"
      },
      "source": [
        "# user specified threshold value\n",
        "rare_thresh = 4\n",
        "\n",
        "# get percentage of rare words in the vocabulary\n",
        "rare_words_count = len(words_df[words_df['count'] < rare_thresh]['word'])\n",
        "total_words = len(words_df)\n",
        "rare_dist = rare_words_count / total_words\n",
        "\n",
        "# coverage percentage of rare words in the corpus\n",
        "rare_cover = words_df[words_df['count'] < rare_thresh]['count'].sum()/words_df['count'].sum()"
      ],
      "execution_count": 14,
      "outputs": []
    },
    {
      "cell_type": "code",
      "metadata": {
        "id": "helYHQ4BXNK9",
        "colab": {
          "base_uri": "https://localhost:8080/"
        },
        "outputId": "b4aef359-30ef-418e-93a2-d75c5e2fd46a"
      },
      "source": [
        "print(f\"Rare words distribution in the vocabulary: {rare_dist*100:.2f}\")\n",
        "print(f\"Rare words coverage in the corpus: {rare_cover*100:.2f}\")"
      ],
      "execution_count": 15,
      "outputs": [
        {
          "output_type": "stream",
          "name": "stdout",
          "text": [
            "Rare words distribution in the vocabulary: 69.03\n",
            "Rare words coverage in the corpus: 2.27\n"
          ]
        }
      ]
    },
    {
      "cell_type": "code",
      "metadata": {
        "id": "yJhbRQllXQJk"
      },
      "source": [
        "# extract rare words in a list\n",
        "rare_words = words_df[words_df['count'] < rare_thresh]['word'].tolist()"
      ],
      "execution_count": 16,
      "outputs": []
    },
    {
      "cell_type": "markdown",
      "metadata": {
        "id": "178uBVztqTDa"
      },
      "source": [
        "Let's see the technique that we will use to replace the rare words/tokens in the dataset with a special token known as the unknown token (\"\\<unk\\>\")"
      ]
    },
    {
      "cell_type": "code",
      "metadata": {
        "id": "H5tSChzyoOJT",
        "colab": {
          "base_uri": "https://localhost:8080/"
        },
        "outputId": "fc94240f-d407-4833-e755-e8672fadda16"
      },
      "source": [
        "## example\n",
        "# specify rare words\n",
        "r_words = [\"day\", \"book\"]\n",
        "\n",
        "# build pattern\n",
        "pattern = \"\"\n",
        "for i in r_words:\n",
        "  pattern+= \"{}|\".format(i)\n",
        "\n",
        "print(pattern)"
      ],
      "execution_count": 17,
      "outputs": [
        {
          "output_type": "stream",
          "name": "stdout",
          "text": [
            "day|book|\n"
          ]
        }
      ]
    },
    {
      "cell_type": "code",
      "metadata": {
        "id": "xZAMqmwPowZj",
        "colab": {
          "base_uri": "https://localhost:8080/"
        },
        "outputId": "d2d5c3e5-2286-401c-cdd7-9f78dc35f517"
      },
      "source": [
        "# removing the last element which is \"|\"\n",
        "pattern = pattern[:-1]\n",
        "print(pattern)"
      ],
      "execution_count": 18,
      "outputs": [
        {
          "output_type": "stream",
          "name": "stdout",
          "text": [
            "day|book\n"
          ]
        }
      ]
    },
    {
      "cell_type": "code",
      "metadata": {
        "id": "UV1K1ibbo3XI",
        "colab": {
          "base_uri": "https://localhost:8080/"
        },
        "outputId": "bdc52caf-e023-4a98-c288-8fe5b73cbb30"
      },
      "source": [
        "# replace the rare words with the <unk> token\n",
        "sents = [\"it has been a long day\", \"this book is a must read\"]\n",
        "\n",
        "for d in sents:\n",
        "  text = re.sub(pattern, \" <unk> \", d)\n",
        "  print(text)"
      ],
      "execution_count": 19,
      "outputs": [
        {
          "output_type": "stream",
          "name": "stdout",
          "text": [
            "it has been a long  <unk> \n",
            "this  <unk>  is a must read\n"
          ]
        }
      ]
    },
    {
      "cell_type": "code",
      "metadata": {
        "id": "hEn-L1_8YBjl",
        "colab": {
          "base_uri": "https://localhost:8080/",
          "height": 101,
          "referenced_widgets": [
            "6646129a1dfd446ebea85d466f0c910b",
            "44bcae138a454bf790600a46710ece54",
            "5eebc50b52be47d5b3c51b577c24d3e6",
            "0650d0f652c7483a91f19cac78dd93bc",
            "ddf76b00a8024b019048ab14673d6fce",
            "3d9de5d7c33d47508c4b0927b6a8b6d0",
            "dd71dff12e5048fb886872c31000e195",
            "3a3c7e071ad3488abafddacfa2a4b2e8",
            "e9a5d5e657764736a048eab232532742",
            "9cd8d1fd16ee4d3e9a4f3ae2f5e68b46",
            "4326878b386941c09f541371ca974282"
          ]
        },
        "outputId": "1340c05b-5a2d-4b62-8a28-e39e604cdc77"
      },
      "source": [
        "# create a text pattern from the rare words, like \"word1 | word2 | word3...\"\n",
        "pattern = \"\"\n",
        "for i in rare_words:\n",
        "  pattern+= \" {} |\".format(i)\n",
        "\n",
        "# removing the last element which is \"|\"\n",
        "pattern = pattern[:-1]\n",
        "\n",
        "# empty list\n",
        "dialogs_clean_v2 = []\n",
        "\n",
        "# replace the rare words with the <unk> token\n",
        "for d in tqdm_notebook(dialogs_clean):\n",
        "  text = re.sub(pattern, \" <unk> \", d)\n",
        "  dialogs_clean_v2.append(text)"
      ],
      "execution_count": 20,
      "outputs": [
        {
          "output_type": "stream",
          "name": "stderr",
          "text": [
            "<ipython-input-20-846b16966f4e>:13: TqdmDeprecationWarning: This function will be removed in tqdm==5.0.0\n",
            "Please use `tqdm.notebook.tqdm` instead of `tqdm.tqdm_notebook`\n",
            "  for d in tqdm_notebook(dialogs_clean):\n"
          ]
        },
        {
          "output_type": "display_data",
          "data": {
            "text/plain": [
              "  0%|          | 0/64776 [00:00<?, ?it/s]"
            ],
            "application/vnd.jupyter.widget-view+json": {
              "version_major": 2,
              "version_minor": 0,
              "model_id": "6646129a1dfd446ebea85d466f0c910b"
            }
          },
          "metadata": {}
        }
      ]
    },
    {
      "cell_type": "code",
      "metadata": {
        "id": "SoQwO5FAZSP1",
        "colab": {
          "base_uri": "https://localhost:8080/"
        },
        "outputId": "ff59b9eb-b329-47af-e45b-3800b4d1e726"
      },
      "source": [
        "dialogs_clean_v2[520:530]"
      ],
      "execution_count": 21,
      "outputs": [
        {
          "output_type": "execute_result",
          "data": {
            "text/plain": [
              "['does it serve traditional chinese dessert',\n",
              " 'how much extra time to reach <unk> ',\n",
              " 'ok lets reserve a table for dinner at hakkasan',\n",
              " 'hello i need to get a car please',\n",
              " 'holiday inn <unk> parkconv <unk> convention center drive <unk> park il',\n",
              " 'bowling alley <unk> highway <unk> park il',\n",
              " 'what types of cars does uber have',\n",
              " \"what's the price difference\",\n",
              " 'ok get me the cheapest please',\n",
              " 'ok then get me the next level']"
            ]
          },
          "metadata": {},
          "execution_count": 21
        }
      ]
    },
    {
      "cell_type": "markdown",
      "metadata": {
        "id": "waTukoy1AbVT"
      },
      "source": [
        "# 4. Data Preparation"
      ]
    },
    {
      "cell_type": "markdown",
      "metadata": {
        "id": "8SvIJQ0brBWW"
      },
      "source": [
        "## 4.1 Prepare Sequences"
      ]
    },
    {
      "cell_type": "code",
      "metadata": {
        "id": "H5BYGcwBF7hX",
        "colab": {
          "base_uri": "https://localhost:8080/",
          "height": 447
        },
        "outputId": "301573df-8e64-4183-d22d-b392b4696d00"
      },
      "source": [
        "# capture length of all the sequences\n",
        "text_word_count = []\n",
        "for i in dialogs_clean_v2:\n",
        "  text_word_count.append(len(i.split()))\n",
        "\n",
        "# plot the sequence lengths\n",
        "pd.Series(text_word_count).hist(bins = 30,range=(0,30))"
      ],
      "execution_count": 22,
      "outputs": [
        {
          "output_type": "execute_result",
          "data": {
            "text/plain": [
              "<Axes: >"
            ]
          },
          "metadata": {},
          "execution_count": 22
        },
        {
          "output_type": "display_data",
          "data": {
            "text/plain": [
              "<Figure size 640x480 with 1 Axes>"
            ],
            "image/png": "[encoded data removed]"
          },
          "metadata": {}
        }
      ]
    },
    {
      "cell_type": "code",
      "metadata": {
        "id": "uw8F6bfwjBeo"
      },
      "source": [
        "# function to create sequences of equal length\n",
        "def create_seq(text, seq_len = 5):\n",
        "\n",
        "  sequences = []\n",
        "\n",
        "  if len(text.split()) > seq_len:\n",
        "    for i in range(seq_len, len(text.split())):\n",
        "      # select sequence of tokens\n",
        "      seq = text.split()[i-seq_len:i+1]\n",
        "      # append sequence to the list\n",
        "      sequences.append(\" \".join(seq))\n",
        "\n",
        "    return sequences\n",
        "\n",
        "  else:\n",
        "\n",
        "    return [text]"
      ],
      "execution_count": 23,
      "outputs": []
    },
    {
      "cell_type": "code",
      "metadata": {
        "id": "p0psJCgo9QtH"
      },
      "source": [
        "# create sequences of equal length\n",
        "seqs = [create_seq(i) for i in dialogs_clean_v2]"
      ],
      "execution_count": 24,
      "outputs": []
    },
    {
      "cell_type": "code",
      "metadata": {
        "id": "LCrf5t5vCI6I",
        "colab": {
          "base_uri": "https://localhost:8080/"
        },
        "outputId": "16a2b0d5-fabf-479a-f575-03cc3bd67e41"
      },
      "source": [
        "seqs[:10]"
      ],
      "execution_count": 25,
      "outputs": [
        {
          "output_type": "execute_result",
          "data": {
            "text/plain": [
              "[[\"hi i'm looking to book a\",\n",
              "  \"i'm looking to book a table\",\n",
              "  'looking to book a table for',\n",
              "  'to book a table for korean',\n",
              "  'book a table for korean fod'],\n",
              " ['somewhere in southern nyc maybe the',\n",
              "  'in southern nyc maybe the east',\n",
              "  'southern nyc maybe the east village'],\n",
              " [\"we don't want to sit at\",\n",
              "  \"don't want to sit at the\",\n",
              "  'want to sit at the bar',\n",
              "  'to sit at the bar but',\n",
              "  'sit at the bar but anywhere',\n",
              "  'at the bar but anywhere else',\n",
              "  'the bar but anywhere else is',\n",
              "  'bar but anywhere else is fine'],\n",
              " ['what times are available'],\n",
              " [\"yikes we can't do those times\"],\n",
              " ['let me check'],\n",
              " [\"great let's book that\"],\n",
              " [\"no that's it just book\"],\n",
              " ['hi i would like to see',\n",
              "  'i would like to see if',\n",
              "  'would like to see if the',\n",
              "  'like to see if the movie',\n",
              "  'to see if the movie what',\n",
              "  'see if the movie what men',\n",
              "  'if the movie what men want',\n",
              "  'the movie what men want is',\n",
              "  'movie what men want is playing',\n",
              "  'what men want is playing here'],\n",
              " ['yes for me and a friend',\n",
              "  'for me and a friend so',\n",
              "  'me and a friend so two',\n",
              "  'and a friend so two tickets',\n",
              "  'a friend so two tickets please']]"
            ]
          },
          "metadata": {},
          "execution_count": 25
        }
      ]
    },
    {
      "cell_type": "code",
      "metadata": {
        "id": "S4O3-S6PA78w"
      },
      "source": [
        "# merge list-of-lists into a single list\n",
        "seqs = sum(seqs, [])"
      ],
      "execution_count": 26,
      "outputs": []
    },
    {
      "cell_type": "code",
      "metadata": {
        "id": "dwmBsxuqxPRq",
        "colab": {
          "base_uri": "https://localhost:8080/"
        },
        "outputId": "204da49d-f110-4477-d562-905742aa9d48"
      },
      "source": [
        "seqs[:15]"
      ],
      "execution_count": 27,
      "outputs": [
        {
          "output_type": "execute_result",
          "data": {
            "text/plain": [
              "[\"hi i'm looking to book a\",\n",
              " \"i'm looking to book a table\",\n",
              " 'looking to book a table for',\n",
              " 'to book a table for korean',\n",
              " 'book a table for korean fod',\n",
              " 'somewhere in southern nyc maybe the',\n",
              " 'in southern nyc maybe the east',\n",
              " 'southern nyc maybe the east village',\n",
              " \"we don't want to sit at\",\n",
              " \"don't want to sit at the\",\n",
              " 'want to sit at the bar',\n",
              " 'to sit at the bar but',\n",
              " 'sit at the bar but anywhere',\n",
              " 'at the bar but anywhere else',\n",
              " 'the bar but anywhere else is']"
            ]
          },
          "metadata": {},
          "execution_count": 27
        }
      ]
    },
    {
      "cell_type": "code",
      "metadata": {
        "id": "cNW5MIpTDufa",
        "colab": {
          "base_uri": "https://localhost:8080/"
        },
        "outputId": "9345af5c-8ed6-44b0-9120-20c74807cff1"
      },
      "source": [
        "# count of sequences\n",
        "len(seqs)"
      ],
      "execution_count": 28,
      "outputs": [
        {
          "output_type": "execute_result",
          "data": {
            "text/plain": [
              "205346"
            ]
          },
          "metadata": {},
          "execution_count": 28
        }
      ]
    },
    {
      "cell_type": "code",
      "metadata": {
        "id": "M0dppnffaEgG"
      },
      "source": [
        "# create input and target sequences (x and y)\n",
        "x = []\n",
        "y = []\n",
        "\n",
        "for s in seqs:\n",
        "  x.append(\" \".join(s.split()[:-1]))\n",
        "  y.append(\" \".join(s.split()[1:]))"
      ],
      "execution_count": 29,
      "outputs": []
    },
    {
      "cell_type": "code",
      "metadata": {
        "id": "27XKPYgLwuOF",
        "colab": {
          "base_uri": "https://localhost:8080/"
        },
        "outputId": "f5f75627-0e4b-47cc-c486-dc69e9d8b295"
      },
      "source": [
        "x[0], y[0]"
      ],
      "execution_count": 30,
      "outputs": [
        {
          "output_type": "execute_result",
          "data": {
            "text/plain": [
              "(\"hi i'm looking to book\", \"i'm looking to book a\")"
            ]
          },
          "metadata": {},
          "execution_count": 30
        }
      ]
    },
    {
      "cell_type": "code",
      "metadata": {
        "id": "rVge-c6WHUx1",
        "colab": {
          "base_uri": "https://localhost:8080/"
        },
        "outputId": "a16f94d3-4849-4d21-b797-fd6356d33ddf"
      },
      "source": [
        "x[88543], y[88543]"
      ],
      "execution_count": 31,
      "outputs": [
        {
          "output_type": "execute_result",
          "data": {
            "text/plain": [
              "('to drive to several locations', 'drive to several locations do')"
            ]
          },
          "metadata": {},
          "execution_count": 31
        }
      ]
    },
    {
      "cell_type": "markdown",
      "metadata": {
        "id": "IzR5aG9wrZJ5"
      },
      "source": [
        "## 4.2 Create Token-Integer Mappings"
      ]
    },
    {
      "cell_type": "code",
      "metadata": {
        "id": "CSgaezAI60ht"
      },
      "source": [
        "# create integer-to-token mapping\n",
        "int2token = {}\n",
        "cnt = 1\n",
        "\n",
        "for w in set(\" \".join(dialogs_clean_v2).split()):\n",
        "  int2token[cnt] = w\n",
        "  cnt+= 1\n",
        "\n",
        "# create token-to-integer mapping\n",
        "token2int = {t: i for i, t in int2token.items()}"
      ],
      "execution_count": 32,
      "outputs": []
    },
    {
      "cell_type": "code",
      "metadata": {
        "id": "j5TSElOk_OQf",
        "colab": {
          "base_uri": "https://localhost:8080/"
        },
        "outputId": "2fd48987-88de-45fe-84da-091a914cf10d"
      },
      "source": [
        "token2int[\"can\"], int2token[925]"
      ],
      "execution_count": 54,
      "outputs": [
        {
          "output_type": "execute_result",
          "data": {
            "text/plain": [
              "(925, 'can')"
            ]
          },
          "metadata": {},
          "execution_count": 54
        }
      ]
    },
    {
      "cell_type": "markdown",
      "metadata": {
        "id": "KQOk80iBr51V"
      },
      "source": [
        "## 4.3 Split Data into Train and Validation Sets"
      ]
    },
    {
      "cell_type": "code",
      "metadata": {
        "id": "Jn6a1aXvAcRl"
      },
      "source": [
        "# train-validation split\n",
        "# input sequences\n",
        "x_tr = x[:150000]\n",
        "x_val = x[150000:]\n",
        "\n",
        "# target sequences\n",
        "y_tr = y[:150000]\n",
        "y_val = y[150000:]"
      ],
      "execution_count": 34,
      "outputs": []
    },
    {
      "cell_type": "markdown",
      "metadata": {
        "id": "YIfKsjE3sxgu"
      },
      "source": [
        "## 4.4 Pad Sequences"
      ]
    },
    {
      "cell_type": "code",
      "metadata": {
        "id": "QlG-sd79sNjH",
        "colab": {
          "base_uri": "https://localhost:8080/",
          "height": 447
        },
        "outputId": "1b4ac60b-842c-40b0-9f0e-437248836ef6"
      },
      "source": [
        "# plot sequence length in train set\n",
        "text_word_count = []\n",
        "\n",
        "for i in x_tr:\n",
        "  text_word_count.append(len(i.split()))\n",
        "\n",
        "pd.Series(text_word_count).hist(bins = 70,range=(0,30))"
      ],
      "execution_count": 35,
      "outputs": [
        {
          "output_type": "execute_result",
          "data": {
            "text/plain": [
              "<Axes: >"
            ]
          },
          "metadata": {},
          "execution_count": 35
        },
        {
          "output_type": "display_data",
          "data": {
            "text/plain": [
              "<Figure size 640x480 with 1 Axes>"
            ],
            "image/png": "[encoded data removed]"
          },
          "metadata": {}
        }
      ]
    },
    {
      "cell_type": "code",
      "metadata": {
        "id": "2umo7Mns5NKl"
      },
      "source": [
        "# based on the plot above\n",
        "max_text_len = 5\n",
        "\n",
        "# function to perform padding\n",
        "def pad_sequence(seq, n):\n",
        "\n",
        "  # split input sequence into tokens\n",
        "  seq = seq.split()\n",
        "\n",
        "  # check if no. of tokens in input sequence is less than 'n'\n",
        "  if len(seq) < n:\n",
        "    for i in range(n - len(seq)):\n",
        "      seq.append(\"<pad>\")\n",
        "\n",
        "  return \" \".join(seq)\n",
        "\n",
        "# pad text sequences (train set)\n",
        "x_tr_padded = [pad_sequence(s, max_text_len) for s in x_tr]\n",
        "y_tr_padded = [pad_sequence(s, max_text_len) for s in y_tr]\n",
        "\n",
        "# pad text sequences (validation set)\n",
        "x_val_padded = [pad_sequence(s, max_text_len) for s in x_val]\n",
        "y_val_padded = [pad_sequence(s, max_text_len) for s in y_val]"
      ],
      "execution_count": 36,
      "outputs": []
    },
    {
      "cell_type": "code",
      "metadata": {
        "id": "gxwn3NyD-HBD",
        "colab": {
          "base_uri": "https://localhost:8080/"
        },
        "outputId": "5bdf4544-57b1-4069-f73e-fbcacc0bb4ae"
      },
      "source": [
        "x_tr_padded[:20]"
      ],
      "execution_count": 37,
      "outputs": [
        {
          "output_type": "execute_result",
          "data": {
            "text/plain": [
              "[\"hi i'm looking to book\",\n",
              " \"i'm looking to book a\",\n",
              " 'looking to book a table',\n",
              " 'to book a table for',\n",
              " 'book a table for korean',\n",
              " 'somewhere in southern nyc maybe',\n",
              " 'in southern nyc maybe the',\n",
              " 'southern nyc maybe the east',\n",
              " \"we don't want to sit\",\n",
              " \"don't want to sit at\",\n",
              " 'want to sit at the',\n",
              " 'to sit at the bar',\n",
              " 'sit at the bar but',\n",
              " 'at the bar but anywhere',\n",
              " 'the bar but anywhere else',\n",
              " 'bar but anywhere else is',\n",
              " 'what times are <pad> <pad>',\n",
              " \"yikes we can't do those\",\n",
              " 'let me <pad> <pad> <pad>',\n",
              " \"great let's book <pad> <pad>\"]"
            ]
          },
          "metadata": {},
          "execution_count": 37
        }
      ]
    },
    {
      "cell_type": "code",
      "metadata": {
        "id": "PPEGI_Xf-ne_",
        "colab": {
          "base_uri": "https://localhost:8080/"
        },
        "outputId": "63b14bf4-6f9d-4e1c-e822-52342acf85e3"
      },
      "source": [
        "y_tr_padded[:20]"
      ],
      "execution_count": 38,
      "outputs": [
        {
          "output_type": "execute_result",
          "data": {
            "text/plain": [
              "[\"i'm looking to book a\",\n",
              " 'looking to book a table',\n",
              " 'to book a table for',\n",
              " 'book a table for korean',\n",
              " 'a table for korean fod',\n",
              " 'in southern nyc maybe the',\n",
              " 'southern nyc maybe the east',\n",
              " 'nyc maybe the east village',\n",
              " \"don't want to sit at\",\n",
              " 'want to sit at the',\n",
              " 'to sit at the bar',\n",
              " 'sit at the bar but',\n",
              " 'at the bar but anywhere',\n",
              " 'the bar but anywhere else',\n",
              " 'bar but anywhere else is',\n",
              " 'but anywhere else is fine',\n",
              " 'times are available <pad> <pad>',\n",
              " \"we can't do those times\",\n",
              " 'me check <pad> <pad> <pad>',\n",
              " \"let's book that <pad> <pad>\"]"
            ]
          },
          "metadata": {},
          "execution_count": 38
        }
      ]
    },
    {
      "cell_type": "code",
      "metadata": {
        "id": "mlUnd9v_-4ad"
      },
      "source": [
        "# update mapping dictionaries\n",
        "int2token[0] = \"<pad>\"\n",
        "token2int[\"<pad>\"] = 0\n",
        "\n",
        "# set vocabulary size\n",
        "vocab_size = len(int2token)"
      ],
      "execution_count": 39,
      "outputs": []
    },
    {
      "cell_type": "markdown",
      "metadata": {
        "id": "pLqEIRavtMpY"
      },
      "source": [
        "## 4.5 Convert Text Sequences to Integer Sequences"
      ]
    },
    {
      "cell_type": "code",
      "metadata": {
        "id": "HVxwznePACXC"
      },
      "source": [
        "# function to create integer sequences\n",
        "def get_integer_seq(seq):\n",
        "  return [token2int[w] for w in seq.split()]"
      ],
      "execution_count": 40,
      "outputs": []
    },
    {
      "cell_type": "code",
      "metadata": {
        "id": "r7QVnobNARnr"
      },
      "source": [
        "# convert text sequences to integer sequences\n",
        "x_tr_int = [get_integer_seq(i) for i in x_tr_padded]\n",
        "y_tr_int = [get_integer_seq(i) for i in y_tr_padded]\n",
        "\n",
        "x_val_int = [get_integer_seq(i) for i in x_val_padded]\n",
        "y_val_int = [get_integer_seq(i) for i in y_val_padded]"
      ],
      "execution_count": 41,
      "outputs": []
    },
    {
      "cell_type": "code",
      "metadata": {
        "id": "qo8g1L_FwAOC",
        "colab": {
          "base_uri": "https://localhost:8080/"
        },
        "outputId": "c78f65a7-c99c-47ca-c02b-772ae613adc9"
      },
      "source": [
        "x_tr_int[:10]"
      ],
      "execution_count": 42,
      "outputs": [
        {
          "output_type": "execute_result",
          "data": {
            "text/plain": [
              "[[2972, 2226, 3876, 3199, 215],\n",
              " [2226, 3876, 3199, 215, 5029],\n",
              " [3876, 3199, 215, 5029, 254],\n",
              " [3199, 215, 5029, 254, 3071],\n",
              " [215, 5029, 254, 3071, 4925],\n",
              " [3399, 3281, 791, 2162, 3801],\n",
              " [3281, 791, 2162, 3801, 4414],\n",
              " [791, 2162, 3801, 4414, 4998],\n",
              " [3148, 2372, 1808, 3199, 874],\n",
              " [2372, 1808, 3199, 874, 3803]]"
            ]
          },
          "metadata": {},
          "execution_count": 42
        }
      ]
    },
    {
      "cell_type": "code",
      "metadata": {
        "id": "yGa_ORxZwDkw",
        "colab": {
          "base_uri": "https://localhost:8080/"
        },
        "outputId": "f0ed945d-d613-4a8b-f54c-ccb5432ae6ed"
      },
      "source": [
        "y_tr_int[:10]"
      ],
      "execution_count": 43,
      "outputs": [
        {
          "output_type": "execute_result",
          "data": {
            "text/plain": [
              "[[2226, 3876, 3199, 215, 5029],\n",
              " [3876, 3199, 215, 5029, 254],\n",
              " [3199, 215, 5029, 254, 3071],\n",
              " [215, 5029, 254, 3071, 4925],\n",
              " [5029, 254, 3071, 4925, 3790],\n",
              " [3281, 791, 2162, 3801, 4414],\n",
              " [791, 2162, 3801, 4414, 4998],\n",
              " [2162, 3801, 4414, 4998, 632],\n",
              " [2372, 1808, 3199, 874, 3803],\n",
              " [1808, 3199, 874, 3803, 4414]]"
            ]
          },
          "metadata": {},
          "execution_count": 43
        }
      ]
    },
    {
      "cell_type": "code",
      "metadata": {
        "id": "eLntLMs5NwGi",
        "colab": {
          "base_uri": "https://localhost:8080/"
        },
        "outputId": "abb40fe9-80dc-4725-878d-fe6800b2337d"
      },
      "source": [
        "# convert lists into numpy arrays\n",
        "x_tr_int = np.array(x_tr_int)\n",
        "y_tr_int = np.array(y_tr_int)\n",
        "\n",
        "x_val_int = np.array(x_val_int)\n",
        "y_val_int = np.array(y_val_int)\n",
        "\n",
        "x_tr_int.shape, y_tr_int.shape, x_val_int.shape, y_val_int.shape"
      ],
      "execution_count": 44,
      "outputs": [
        {
          "output_type": "execute_result",
          "data": {
            "text/plain": [
              "((150000, 5), (150000, 5), (55346, 5), (55346, 5))"
            ]
          },
          "metadata": {},
          "execution_count": 44
        }
      ]
    },
    {
      "cell_type": "markdown",
      "metadata": {
        "id": "-Y3bZcFywH33"
      },
      "source": [
        "# 5. Model Building"
      ]
    },
    {
      "cell_type": "markdown",
      "metadata": {
        "id": "tCh2prnryopJ"
      },
      "source": [
        "## 5.1 Define Model Architecture"
      ]
    },
    {
      "cell_type": "code",
      "metadata": {
        "id": "ldcidFnPRsOM"
      },
      "source": [
        "# define model architecture\n",
        "\n",
        "## embedding layer:\n",
        "##    input dim = vocab_size,\n",
        "##    ouput dim = 200\n",
        "\n",
        "## LSTM layer:\n",
        "##    input dim = 200\n",
        "##    hidden units = 256\n",
        "##    layers = 2\n",
        "##    output dim = 256\n",
        "\n",
        "## Dropout Layer\n",
        "##    input dim = 256\n",
        "##    output dim = 256\n",
        "\n",
        "## fully connected layer\n",
        "##    input dim = 256\n",
        "##    ouput dim = vocab_size\n",
        "\n",
        "class WordLSTM(nn.Module):\n",
        "\n",
        "  def __init__(self, n_hidden=256, n_layers=2, drop_prob=0.3, lr=0.001):\n",
        "    super().__init__()\n",
        "    self.drop_prob = drop_prob\n",
        "    self.n_layers = n_layers\n",
        "    self.n_hidden = n_hidden\n",
        "    self.lr = lr\n",
        "\n",
        "    self.emb_layer = nn.Embedding(vocab_size, 200)\n",
        "\n",
        "    ## define the LSTM\n",
        "    # input data is of shape (batch size, sequence length, no. of features)...\n",
        "    # ...therefore we need batch_first=True\n",
        "    self.lstm = nn.LSTM(200, n_hidden, n_layers, batch_first=True)\n",
        "\n",
        "    ## define a dropout layer\n",
        "    self.dropout = nn.Dropout(drop_prob)\n",
        "\n",
        "    ## define the fully-connected layer\n",
        "    self.fc = nn.Linear(n_hidden, vocab_size)\n",
        "\n",
        "  def forward(self, x, hidden):\n",
        "    ''' Forward pass through the network.\n",
        "        These inputs are x, and the hidden/cell state is `hidden`. '''\n",
        "\n",
        "    ## pass input through embedding layer\n",
        "    embedded = self.emb_layer(x)\n",
        "\n",
        "    ## Get the outputs and the new hidden state from the lstm\n",
        "    lstm_output, hidden = self.lstm(embedded, hidden)\n",
        "\n",
        "    ## pass through a dropout layer\n",
        "    out = self.dropout(lstm_output)\n",
        "\n",
        "    ## reshape the tensor to the shape (batch-size*sequence length, hidden units)\n",
        "    out = out.reshape(-1, self.n_hidden)\n",
        "\n",
        "    ## put \"out\" through the fully-connected layer\n",
        "    out = self.fc(out)\n",
        "\n",
        "    # return the final output and the hidden state\n",
        "    return out, hidden\n",
        "\n",
        "\n",
        "  def init_hidden(self, batch_size):\n",
        "    ''' Initializes hidden state '''\n",
        "    # Create two new tensors with sizes n_layers x batch_size x n_hidden,\n",
        "    # initialized to zero, for hidden state and cell state of LSTM\n",
        "    weight = next(self.parameters()).data\n",
        "\n",
        "    if (torch.cuda.is_available()):\n",
        "      hidden = (weight.new(self.n_layers, batch_size, self.n_hidden).zero_().cuda(),\n",
        "                weight.new(self.n_layers, batch_size, self.n_hidden).zero_().cuda())\n",
        "    else:\n",
        "      hidden = (weight.new(self.n_layers, batch_size, self.n_hidden).zero_(),\n",
        "                weight.new(self.n_layers, batch_size, self.n_hidden).zero_())\n",
        "\n",
        "    return hidden"
      ],
      "execution_count": 45,
      "outputs": []
    },
    {
      "cell_type": "code",
      "metadata": {
        "id": "LQq72w9ADLn_",
        "colab": {
          "base_uri": "https://localhost:8080/"
        },
        "outputId": "4aa51ec9-8d1d-487a-f57f-0d6c7b1660e5"
      },
      "source": [
        "# define and print the net\n",
        "net = WordLSTM()\n",
        "print(net)"
      ],
      "execution_count": 46,
      "outputs": [
        {
          "output_type": "stream",
          "name": "stdout",
          "text": [
            "WordLSTM(\n",
            "  (emb_layer): Embedding(6502, 200)\n",
            "  (lstm): LSTM(200, 256, num_layers=2, batch_first=True)\n",
            "  (dropout): Dropout(p=0.3, inplace=False)\n",
            "  (fc): Linear(in_features=256, out_features=6502, bias=True)\n",
            ")\n"
          ]
        }
      ]
    },
    {
      "cell_type": "code",
      "metadata": {
        "id": "2pRtYvAVFCKB"
      },
      "source": [
        "# function to generate batches\n",
        "def get_batches(arr_x, arr_y, batch_size):\n",
        "  # iterate through the arrays\n",
        "  prv = 0\n",
        "\n",
        "  for n in range(batch_size, arr_x.shape[0], batch_size):\n",
        "    # batch of input sequences\n",
        "    x = arr_x[prv:n,:]\n",
        "\n",
        "    # batch of target sequences\n",
        "    y = arr_y[prv:n,:]\n",
        "\n",
        "    prv = n\n",
        "\n",
        "    yield x, y"
      ],
      "execution_count": 47,
      "outputs": []
    },
    {
      "cell_type": "markdown",
      "metadata": {
        "id": "HpV3vbVeytW1"
      },
      "source": [
        "## 5.2 Start Model Training"
      ]
    },
    {
      "cell_type": "code",
      "metadata": {
        "id": "QHMBy8HQ2GhY"
      },
      "source": [
        "def train(net, epochs=10, batch_size=32, lr=0.001, print_every=32):\n",
        "\n",
        "  # set initial loss to infinite\n",
        "  best_valid_loss = float('inf')\n",
        "\n",
        "  # optimizer\n",
        "  opt = torch.optim.Adam(net.parameters(), lr=lr)\n",
        "\n",
        "  # loss function\n",
        "  criterion = nn.CrossEntropyLoss()\n",
        "\n",
        "  if(torch.cuda.is_available()):\n",
        "    # push model to GPU\n",
        "    net.cuda()\n",
        "\n",
        "  counter = 0\n",
        "\n",
        "  net.train()\n",
        "\n",
        "  for e in range(epochs):\n",
        "\n",
        "\n",
        "    # iterate over batches\n",
        "    for x, y in get_batches(x_tr_int, y_tr_int, batch_size):\n",
        "      counter+= 1\n",
        "\n",
        "      # convert arrays to tensors\n",
        "      inputs, targets = torch.from_numpy(x), torch.from_numpy(y)\n",
        "\n",
        "      if(torch.cuda.is_available()):\n",
        "        # push tensors to GPU\n",
        "        inputs, targets = inputs.cuda(), targets.cuda()\n",
        "\n",
        "      # initialize hidden state\n",
        "      h = net.init_hidden(batch_size)\n",
        "\n",
        "      # set accumulated gradients to zero\n",
        "      net.zero_grad()\n",
        "\n",
        "      # get the output from the model\n",
        "      output, h = net(inputs, h)\n",
        "\n",
        "      # calculate the loss and perform backprop\n",
        "      loss = criterion(output, targets.view(-1))\n",
        "      loss.backward()\n",
        "\n",
        "      opt.step()\n",
        "\n",
        "      if counter % print_every == 0:\n",
        "        # Get validation loss\n",
        "\n",
        "        val_losses = []\n",
        "\n",
        "        net.eval()\n",
        "        for x, y in get_batches(x_val_int, y_val_int, batch_size):\n",
        "\n",
        "          x, y = torch.from_numpy(x), torch.from_numpy(y)\n",
        "\n",
        "          val_h = net.init_hidden(batch_size)\n",
        "\n",
        "          inputs, targets = x, y\n",
        "          if(torch.cuda.is_available()):\n",
        "            inputs, targets = inputs.cuda(), targets.cuda()\n",
        "\n",
        "          output, val_h = net(inputs, val_h)\n",
        "\n",
        "          val_loss = criterion(output, targets.view(-1))\n",
        "          val_losses.append(val_loss.item())\n",
        "\n",
        "        #save the best model\n",
        "        if np.mean(val_losses) < best_valid_loss:\n",
        "          best_valid_loss = np.mean(val_losses)\n",
        "          torch.save(net.state_dict(), 'saved_weights.pt')\n",
        "\n",
        "        net.train()\n",
        "\n",
        "\n",
        "        print(\"Epoch: {}/{}...\".format(e+1, epochs),\n",
        "              \"Step: {}...\".format(counter),\n",
        "              \"Loss: {:.4f}...\".format(loss.item()),\n",
        "              \"ppl: {:.4f} \".format(np.exp(np.mean(val_losses))),\n",
        "              \"Val Loss: {:.4f}\".format(np.mean(val_losses)))"
      ],
      "execution_count": 48,
      "outputs": []
    },
    {
      "cell_type": "code",
      "metadata": {
        "id": "sbGexKELaTNb",
        "colab": {
          "base_uri": "https://localhost:8080/"
        },
        "outputId": "4ccd25b4-0fc9-4ceb-b34e-a3d10eefbee4"
      },
      "source": [
        "# specify batch size\n",
        "batch_size = 64\n",
        "\n",
        "# train the model\n",
        "train(net, batch_size = batch_size, epochs=10)"
      ],
      "execution_count": 49,
      "outputs": [
        {
          "output_type": "stream",
          "name": "stdout",
          "text": [
            "Epoch: 1/10... Step: 32... Loss: 6.4533... ppl: 689.9127  Val Loss: 6.5366\n",
            "Epoch: 1/10... Step: 64... Loss: 5.6430... ppl: 341.0570  Val Loss: 5.8320\n",
            "Epoch: 1/10... Step: 96... Loss: 6.0485... ppl: 272.2853  Val Loss: 5.6069\n",
            "Epoch: 1/10... Step: 128... Loss: 5.2649... ppl: 237.0916  Val Loss: 5.4684\n",
            "Epoch: 1/10... Step: 160... Loss: 6.1869... ppl: 207.7024  Val Loss: 5.3361\n",
            "Epoch: 1/10... Step: 192... Loss: 5.7148... ppl: 183.4914  Val Loss: 5.2122\n",
            "Epoch: 1/10... Step: 224... Loss: 5.1300... ppl: 166.0518  Val Loss: 5.1123\n",
            "Epoch: 1/10... Step: 256... Loss: 4.2040... ppl: 151.6108  Val Loss: 5.0213\n",
            "Epoch: 1/10... Step: 288... Loss: 4.8121... ppl: 139.7832  Val Loss: 4.9401\n",
            "Epoch: 1/10... Step: 320... Loss: 4.8467... ppl: 130.5690  Val Loss: 4.8719\n",
            "Epoch: 1/10... Step: 352... Loss: 4.3413... ppl: 121.9477  Val Loss: 4.8036\n",
            "Epoch: 1/10... Step: 384... Loss: 4.9850... ppl: 113.9540  Val Loss: 4.7358\n",
            "Epoch: 1/10... Step: 416... Loss: 4.8844... ppl: 108.5217  Val Loss: 4.6869\n",
            "Epoch: 1/10... Step: 448... Loss: 4.4627... ppl: 103.7571  Val Loss: 4.6421\n",
            "Epoch: 1/10... Step: 480... Loss: 4.3126... ppl: 99.2784  Val Loss: 4.5979\n",
            "Epoch: 1/10... Step: 512... Loss: 4.4756... ppl: 95.2346  Val Loss: 4.5563\n",
            "Epoch: 1/10... Step: 544... Loss: 4.7213... ppl: 91.7754  Val Loss: 4.5193\n",
            "Epoch: 1/10... Step: 576... Loss: 5.5084... ppl: 88.7651  Val Loss: 4.4860\n",
            "Epoch: 1/10... Step: 608... Loss: 4.4501... ppl: 86.5609  Val Loss: 4.4608\n",
            "Epoch: 1/10... Step: 640... Loss: 4.4277... ppl: 83.3596  Val Loss: 4.4232\n",
            "Epoch: 1/10... Step: 672... Loss: 4.3541... ppl: 81.6546  Val Loss: 4.4025\n",
            "Epoch: 1/10... Step: 704... Loss: 4.2131... ppl: 79.4517  Val Loss: 4.3751\n",
            "Epoch: 1/10... Step: 736... Loss: 4.7481... ppl: 78.0337  Val Loss: 4.3571\n",
            "Epoch: 1/10... Step: 768... Loss: 3.8805... ppl: 75.2338  Val Loss: 4.3206\n",
            "Epoch: 1/10... Step: 800... Loss: 4.2741... ppl: 73.7194  Val Loss: 4.3003\n",
            "Epoch: 1/10... Step: 832... Loss: 4.6439... ppl: 72.5105  Val Loss: 4.2837\n",
            "Epoch: 1/10... Step: 864... Loss: 4.1321... ppl: 71.3415  Val Loss: 4.2675\n",
            "Epoch: 1/10... Step: 896... Loss: 4.2421... ppl: 69.8403  Val Loss: 4.2462\n",
            "Epoch: 1/10... Step: 928... Loss: 4.3859... ppl: 68.1560  Val Loss: 4.2218\n",
            "Epoch: 1/10... Step: 960... Loss: 3.9697... ppl: 67.8735  Val Loss: 4.2176\n",
            "Epoch: 1/10... Step: 992... Loss: 3.7554... ppl: 66.1396  Val Loss: 4.1918\n",
            "Epoch: 1/10... Step: 1024... Loss: 3.6859... ppl: 65.0075  Val Loss: 4.1745\n",
            "Epoch: 1/10... Step: 1056... Loss: 4.2216... ppl: 63.7886  Val Loss: 4.1556\n",
            "Epoch: 1/10... Step: 1088... Loss: 3.4826... ppl: 62.5890  Val Loss: 4.1366\n",
            "Epoch: 1/10... Step: 1120... Loss: 4.1606... ppl: 61.9006  Val Loss: 4.1255\n",
            "Epoch: 1/10... Step: 1152... Loss: 3.2100... ppl: 61.1913  Val Loss: 4.1140\n",
            "Epoch: 1/10... Step: 1184... Loss: 3.9806... ppl: 60.1292  Val Loss: 4.0965\n",
            "Epoch: 1/10... Step: 1216... Loss: 3.7216... ppl: 59.6984  Val Loss: 4.0893\n",
            "Epoch: 1/10... Step: 1248... Loss: 4.2101... ppl: 58.6859  Val Loss: 4.0722\n",
            "Epoch: 1/10... Step: 1280... Loss: 4.2629... ppl: 57.7904  Val Loss: 4.0568\n",
            "Epoch: 1/10... Step: 1312... Loss: 4.8213... ppl: 57.8154  Val Loss: 4.0573\n",
            "Epoch: 1/10... Step: 1344... Loss: 3.8276... ppl: 56.9382  Val Loss: 4.0420\n",
            "Epoch: 1/10... Step: 1376... Loss: 4.2154... ppl: 55.7132  Val Loss: 4.0202\n",
            "Epoch: 1/10... Step: 1408... Loss: 3.5729... ppl: 55.2022  Val Loss: 4.0110\n",
            "Epoch: 1/10... Step: 1440... Loss: 4.0462... ppl: 54.6641  Val Loss: 4.0012\n",
            "Epoch: 1/10... Step: 1472... Loss: 3.4508... ppl: 54.1572  Val Loss: 3.9919\n",
            "Epoch: 1/10... Step: 1504... Loss: 4.1090... ppl: 53.9509  Val Loss: 3.9881\n",
            "Epoch: 1/10... Step: 1536... Loss: 4.8310... ppl: 53.6261  Val Loss: 3.9820\n",
            "Epoch: 1/10... Step: 1568... Loss: 3.9531... ppl: 52.4105  Val Loss: 3.9591\n",
            "Epoch: 1/10... Step: 1600... Loss: 3.6561... ppl: 51.9361  Val Loss: 3.9500\n",
            "Epoch: 1/10... Step: 1632... Loss: 5.2448... ppl: 51.4393  Val Loss: 3.9404\n",
            "Epoch: 1/10... Step: 1664... Loss: 3.9668... ppl: 50.8759  Val Loss: 3.9294\n",
            "Epoch: 1/10... Step: 1696... Loss: 3.6061... ppl: 50.5425  Val Loss: 3.9228\n",
            "Epoch: 1/10... Step: 1728... Loss: 3.6304... ppl: 50.0840  Val Loss: 3.9137\n",
            "Epoch: 1/10... Step: 1760... Loss: 4.4948... ppl: 49.9589  Val Loss: 3.9112\n",
            "Epoch: 1/10... Step: 1792... Loss: 3.4272... ppl: 49.4457  Val Loss: 3.9009\n",
            "Epoch: 1/10... Step: 1824... Loss: 4.3479... ppl: 49.8544  Val Loss: 3.9091\n",
            "Epoch: 1/10... Step: 1856... Loss: 5.7659... ppl: 48.6263  Val Loss: 3.8842\n",
            "Epoch: 1/10... Step: 1888... Loss: 3.5597... ppl: 47.9066  Val Loss: 3.8693\n",
            "Epoch: 1/10... Step: 1920... Loss: 3.5156... ppl: 47.5081  Val Loss: 3.8609\n",
            "Epoch: 1/10... Step: 1952... Loss: 3.0088... ppl: 47.2957  Val Loss: 3.8564\n",
            "Epoch: 1/10... Step: 1984... Loss: 2.9259... ppl: 47.3645  Val Loss: 3.8579\n",
            "Epoch: 1/10... Step: 2016... Loss: 3.5102... ppl: 46.6230  Val Loss: 3.8421\n",
            "Epoch: 1/10... Step: 2048... Loss: 4.1474... ppl: 46.3948  Val Loss: 3.8372\n",
            "Epoch: 1/10... Step: 2080... Loss: 3.8185... ppl: 46.0581  Val Loss: 3.8299\n",
            "Epoch: 1/10... Step: 2112... Loss: 4.8297... ppl: 46.1671  Val Loss: 3.8323\n",
            "Epoch: 1/10... Step: 2144... Loss: 3.4165... ppl: 45.6360  Val Loss: 3.8207\n",
            "Epoch: 1/10... Step: 2176... Loss: 5.0690... ppl: 45.3760  Val Loss: 3.8150\n",
            "Epoch: 1/10... Step: 2208... Loss: 4.1753... ppl: 45.3682  Val Loss: 3.8148\n",
            "Epoch: 1/10... Step: 2240... Loss: 3.5891... ppl: 45.1535  Val Loss: 3.8101\n",
            "Epoch: 1/10... Step: 2272... Loss: 3.9912... ppl: 44.5772  Val Loss: 3.7972\n",
            "Epoch: 1/10... Step: 2304... Loss: 3.2733... ppl: 44.1983  Val Loss: 3.7887\n",
            "Epoch: 1/10... Step: 2336... Loss: 4.2806... ppl: 43.9875  Val Loss: 3.7839\n",
            "Epoch: 2/10... Step: 2368... Loss: 3.2066... ppl: 44.1959  Val Loss: 3.7886\n",
            "Epoch: 2/10... Step: 2400... Loss: 3.4403... ppl: 44.0752  Val Loss: 3.7859\n",
            "Epoch: 2/10... Step: 2432... Loss: 3.8512... ppl: 44.2679  Val Loss: 3.7903\n",
            "Epoch: 2/10... Step: 2464... Loss: 4.1786... ppl: 43.8082  Val Loss: 3.7798\n",
            "Epoch: 2/10... Step: 2496... Loss: 3.9551... ppl: 43.2609  Val Loss: 3.7672\n",
            "Epoch: 2/10... Step: 2528... Loss: 3.5192... ppl: 43.1415  Val Loss: 3.7645\n",
            "Epoch: 2/10... Step: 2560... Loss: 5.1818... ppl: 42.9093  Val Loss: 3.7591\n",
            "Epoch: 2/10... Step: 2592... Loss: 4.0302... ppl: 43.1849  Val Loss: 3.7655\n",
            "Epoch: 2/10... Step: 2624... Loss: 3.1739... ppl: 42.9489  Val Loss: 3.7600\n",
            "Epoch: 2/10... Step: 2656... Loss: 3.9357... ppl: 42.7457  Val Loss: 3.7553\n",
            "Epoch: 2/10... Step: 2688... Loss: 3.4192... ppl: 42.3618  Val Loss: 3.7462\n",
            "Epoch: 2/10... Step: 2720... Loss: 3.7753... ppl: 41.9584  Val Loss: 3.7367\n",
            "Epoch: 2/10... Step: 2752... Loss: 3.6203... ppl: 42.1584  Val Loss: 3.7414\n",
            "Epoch: 2/10... Step: 2784... Loss: 4.2068... ppl: 41.9289  Val Loss: 3.7360\n",
            "Epoch: 2/10... Step: 2816... Loss: 4.0758... ppl: 41.9860  Val Loss: 3.7373\n",
            "Epoch: 2/10... Step: 2848... Loss: 3.6496... ppl: 41.4485  Val Loss: 3.7245\n",
            "Epoch: 2/10... Step: 2880... Loss: 4.2444... ppl: 41.4720  Val Loss: 3.7250\n",
            "Epoch: 2/10... Step: 2912... Loss: 3.2407... ppl: 41.1184  Val Loss: 3.7165\n",
            "Epoch: 2/10... Step: 2944... Loss: 3.3449... ppl: 41.2291  Val Loss: 3.7191\n",
            "Epoch: 2/10... Step: 2976... Loss: 3.3285... ppl: 40.8616  Val Loss: 3.7102\n",
            "Epoch: 2/10... Step: 3008... Loss: 4.2202... ppl: 40.8173  Val Loss: 3.7091\n",
            "Epoch: 2/10... Step: 3040... Loss: 3.5485... ppl: 40.6196  Val Loss: 3.7042\n",
            "Epoch: 2/10... Step: 3072... Loss: 3.7233... ppl: 40.6316  Val Loss: 3.7045\n",
            "Epoch: 2/10... Step: 3104... Loss: 3.7760... ppl: 40.4149  Val Loss: 3.6992\n",
            "Epoch: 2/10... Step: 3136... Loss: 4.1946... ppl: 40.2904  Val Loss: 3.6961\n",
            "Epoch: 2/10... Step: 3168... Loss: 3.4183... ppl: 40.1566  Val Loss: 3.6928\n",
            "Epoch: 2/10... Step: 3200... Loss: 3.7834... ppl: 40.2898  Val Loss: 3.6961\n",
            "Epoch: 2/10... Step: 3232... Loss: 4.2658... ppl: 40.0370  Val Loss: 3.6898\n",
            "Epoch: 2/10... Step: 3264... Loss: 2.8776... ppl: 39.7293  Val Loss: 3.6821\n",
            "Epoch: 2/10... Step: 3296... Loss: 4.1118... ppl: 39.7544  Val Loss: 3.6827\n",
            "Epoch: 2/10... Step: 3328... Loss: 4.0574... ppl: 39.5918  Val Loss: 3.6786\n",
            "Epoch: 2/10... Step: 3360... Loss: 3.6758... ppl: 39.2762  Val Loss: 3.6706\n",
            "Epoch: 2/10... Step: 3392... Loss: 3.2519... ppl: 39.4594  Val Loss: 3.6753\n",
            "Epoch: 2/10... Step: 3424... Loss: 4.3169... ppl: 39.0978  Val Loss: 3.6661\n",
            "Epoch: 2/10... Step: 3456... Loss: 3.4539... ppl: 38.9467  Val Loss: 3.6622\n",
            "Epoch: 2/10... Step: 3488... Loss: 3.5609... ppl: 39.1770  Val Loss: 3.6681\n",
            "Epoch: 2/10... Step: 3520... Loss: 3.4070... ppl: 38.8287  Val Loss: 3.6592\n",
            "Epoch: 2/10... Step: 3552... Loss: 4.1238... ppl: 38.9494  Val Loss: 3.6623\n",
            "Epoch: 2/10... Step: 3584... Loss: 2.8890... ppl: 38.6137  Val Loss: 3.6536\n",
            "Epoch: 2/10... Step: 3616... Loss: 3.5802... ppl: 38.5077  Val Loss: 3.6509\n",
            "Epoch: 2/10... Step: 3648... Loss: 3.2328... ppl: 38.6263  Val Loss: 3.6539\n",
            "Epoch: 2/10... Step: 3680... Loss: 3.6850... ppl: 38.5083  Val Loss: 3.6509\n",
            "Epoch: 2/10... Step: 3712... Loss: 3.5026... ppl: 38.2580  Val Loss: 3.6444\n",
            "Epoch: 2/10... Step: 3744... Loss: 3.4244... ppl: 38.1103  Val Loss: 3.6405\n",
            "Epoch: 2/10... Step: 3776... Loss: 3.9364... ppl: 38.2520  Val Loss: 3.6442\n",
            "Epoch: 2/10... Step: 3808... Loss: 4.9649... ppl: 38.0133  Val Loss: 3.6379\n",
            "Epoch: 2/10... Step: 3840... Loss: 4.4301... ppl: 38.1454  Val Loss: 3.6414\n",
            "Epoch: 2/10... Step: 3872... Loss: 4.0281... ppl: 37.9353  Val Loss: 3.6359\n",
            "Epoch: 2/10... Step: 3904... Loss: 2.9661... ppl: 37.8422  Val Loss: 3.6334\n",
            "Epoch: 2/10... Step: 3936... Loss: 3.7539... ppl: 37.7334  Val Loss: 3.6305\n",
            "Epoch: 2/10... Step: 3968... Loss: 3.9891... ppl: 37.4317  Val Loss: 3.6225\n",
            "Epoch: 2/10... Step: 4000... Loss: 3.7571... ppl: 37.2856  Val Loss: 3.6186\n",
            "Epoch: 2/10... Step: 4032... Loss: 4.2584... ppl: 37.4207  Val Loss: 3.6222\n",
            "Epoch: 2/10... Step: 4064... Loss: 3.7207... ppl: 37.2720  Val Loss: 3.6182\n",
            "Epoch: 2/10... Step: 4096... Loss: 3.5401... ppl: 37.2963  Val Loss: 3.6189\n",
            "Epoch: 2/10... Step: 4128... Loss: 2.9045... ppl: 37.3165  Val Loss: 3.6194\n",
            "Epoch: 2/10... Step: 4160... Loss: 2.9303... ppl: 37.5306  Val Loss: 3.6252\n",
            "Epoch: 2/10... Step: 4192... Loss: 3.4639... ppl: 37.0844  Val Loss: 3.6132\n",
            "Epoch: 2/10... Step: 4224... Loss: 3.2709... ppl: 36.6657  Val Loss: 3.6018\n",
            "Epoch: 2/10... Step: 4256... Loss: 3.5062... ppl: 36.7409  Val Loss: 3.6039\n",
            "Epoch: 2/10... Step: 4288... Loss: 3.4157... ppl: 36.6311  Val Loss: 3.6009\n",
            "Epoch: 2/10... Step: 4320... Loss: 2.9844... ppl: 36.6990  Val Loss: 3.6027\n",
            "Epoch: 2/10... Step: 4352... Loss: 2.9387... ppl: 36.6083  Val Loss: 3.6003\n",
            "Epoch: 2/10... Step: 4384... Loss: 3.1458... ppl: 36.3776  Val Loss: 3.5940\n",
            "Epoch: 2/10... Step: 4416... Loss: 3.8696... ppl: 36.3728  Val Loss: 3.5938\n",
            "Epoch: 2/10... Step: 4448... Loss: 2.9200... ppl: 36.5242  Val Loss: 3.5980\n",
            "Epoch: 2/10... Step: 4480... Loss: 4.3850... ppl: 36.3307  Val Loss: 3.5927\n",
            "Epoch: 2/10... Step: 4512... Loss: 3.2280... ppl: 36.1512  Val Loss: 3.5877\n",
            "Epoch: 2/10... Step: 4544... Loss: 3.4431... ppl: 36.1021  Val Loss: 3.5863\n",
            "Epoch: 2/10... Step: 4576... Loss: 2.7664... ppl: 36.2328  Val Loss: 3.5900\n",
            "Epoch: 2/10... Step: 4608... Loss: 2.9802... ppl: 36.1566  Val Loss: 3.5879\n",
            "Epoch: 2/10... Step: 4640... Loss: 3.7376... ppl: 36.0771  Val Loss: 3.5857\n",
            "Epoch: 2/10... Step: 4672... Loss: 3.5382... ppl: 35.9207  Val Loss: 3.5813\n",
            "Epoch: 3/10... Step: 4704... Loss: 3.0596... ppl: 35.9268  Val Loss: 3.5815\n",
            "Epoch: 3/10... Step: 4736... Loss: 4.2009... ppl: 36.1446  Val Loss: 3.5875\n",
            "Epoch: 3/10... Step: 4768... Loss: 3.1574... ppl: 35.9996  Val Loss: 3.5835\n",
            "Epoch: 3/10... Step: 4800... Loss: 2.6947... ppl: 36.1148  Val Loss: 3.5867\n",
            "Epoch: 3/10... Step: 4832... Loss: 3.3679... ppl: 35.9218  Val Loss: 3.5813\n",
            "Epoch: 3/10... Step: 4864... Loss: 3.7469... ppl: 35.8406  Val Loss: 3.5791\n",
            "Epoch: 3/10... Step: 4896... Loss: 2.4785... ppl: 35.8318  Val Loss: 3.5788\n",
            "Epoch: 3/10... Step: 4928... Loss: 2.0846... ppl: 35.9182  Val Loss: 3.5812\n",
            "Epoch: 3/10... Step: 4960... Loss: 3.2448... ppl: 35.9094  Val Loss: 3.5810\n",
            "Epoch: 3/10... Step: 4992... Loss: 3.4164... ppl: 36.1777  Val Loss: 3.5884\n",
            "Epoch: 3/10... Step: 5024... Loss: 3.4241... ppl: 35.7713  Val Loss: 3.5771\n",
            "Epoch: 3/10... Step: 5056... Loss: 3.0863... ppl: 35.5469  Val Loss: 3.5709\n",
            "Epoch: 3/10... Step: 5088... Loss: 2.7511... ppl: 35.6041  Val Loss: 3.5725\n",
            "Epoch: 3/10... Step: 5120... Loss: 3.7273... ppl: 35.7354  Val Loss: 3.5761\n",
            "Epoch: 3/10... Step: 5152... Loss: 2.8545... ppl: 35.7516  Val Loss: 3.5766\n",
            "Epoch: 3/10... Step: 5184... Loss: 2.9238... ppl: 35.6829  Val Loss: 3.5747\n",
            "Epoch: 3/10... Step: 5216... Loss: 2.9039... ppl: 35.4052  Val Loss: 3.5669\n",
            "Epoch: 3/10... Step: 5248... Loss: 2.9909... ppl: 35.4156  Val Loss: 3.5672\n",
            "Epoch: 3/10... Step: 5280... Loss: 3.2372... ppl: 35.6578  Val Loss: 3.5740\n",
            "Epoch: 3/10... Step: 5312... Loss: 3.4466... ppl: 35.3498  Val Loss: 3.5653\n",
            "Epoch: 3/10... Step: 5344... Loss: 3.6842... ppl: 35.3486  Val Loss: 3.5653\n",
            "Epoch: 3/10... Step: 5376... Loss: 4.0374... ppl: 35.3504  Val Loss: 3.5653\n",
            "Epoch: 3/10... Step: 5408... Loss: 3.7489... ppl: 35.3471  Val Loss: 3.5652\n",
            "Epoch: 3/10... Step: 5440... Loss: 4.3175... ppl: 35.3737  Val Loss: 3.5660\n",
            "Epoch: 3/10... Step: 5472... Loss: 3.7058... ppl: 35.1246  Val Loss: 3.5589\n",
            "Epoch: 3/10... Step: 5504... Loss: 3.6467... ppl: 35.1471  Val Loss: 3.5595\n",
            "Epoch: 3/10... Step: 5536... Loss: 3.2406... ppl: 35.3732  Val Loss: 3.5660\n",
            "Epoch: 3/10... Step: 5568... Loss: 3.0207... ppl: 35.1225  Val Loss: 3.5588\n",
            "Epoch: 3/10... Step: 5600... Loss: 3.4065... ppl: 35.1714  Val Loss: 3.5602\n",
            "Epoch: 3/10... Step: 5632... Loss: 3.4443... ppl: 35.0431  Val Loss: 3.5566\n",
            "Epoch: 3/10... Step: 5664... Loss: 3.2631... ppl: 35.1214  Val Loss: 3.5588\n",
            "Epoch: 3/10... Step: 5696... Loss: 3.6961... ppl: 34.8823  Val Loss: 3.5520\n",
            "Epoch: 3/10... Step: 5728... Loss: 3.1828... ppl: 35.1827  Val Loss: 3.5606\n",
            "Epoch: 3/10... Step: 5760... Loss: 3.7637... ppl: 34.8948  Val Loss: 3.5523\n",
            "Epoch: 3/10... Step: 5792... Loss: 4.0072... ppl: 34.6830  Val Loss: 3.5462\n",
            "Epoch: 3/10... Step: 5824... Loss: 3.2074... ppl: 34.9618  Val Loss: 3.5543\n",
            "Epoch: 3/10... Step: 5856... Loss: 3.4516... ppl: 34.6568  Val Loss: 3.5455\n",
            "Epoch: 3/10... Step: 5888... Loss: 3.0870... ppl: 34.7572  Val Loss: 3.5484\n",
            "Epoch: 3/10... Step: 5920... Loss: 3.5284... ppl: 34.5497  Val Loss: 3.5424\n",
            "Epoch: 3/10... Step: 5952... Loss: 3.8822... ppl: 34.4861  Val Loss: 3.5406\n",
            "Epoch: 3/10... Step: 5984... Loss: 3.1586... ppl: 34.5338  Val Loss: 3.5419\n",
            "Epoch: 3/10... Step: 6016... Loss: 3.7647... ppl: 34.5009  Val Loss: 3.5410\n",
            "Epoch: 3/10... Step: 6048... Loss: 3.4155... ppl: 34.7091  Val Loss: 3.5470\n",
            "Epoch: 3/10... Step: 6080... Loss: 2.7619... ppl: 34.4066  Val Loss: 3.5382\n",
            "Epoch: 3/10... Step: 6112... Loss: 3.3274... ppl: 34.4846  Val Loss: 3.5405\n",
            "Epoch: 3/10... Step: 6144... Loss: 3.1576... ppl: 34.4243  Val Loss: 3.5388\n",
            "Epoch: 3/10... Step: 6176... Loss: 3.1936... ppl: 34.4291  Val Loss: 3.5389\n",
            "Epoch: 3/10... Step: 6208... Loss: 3.4832... ppl: 34.4043  Val Loss: 3.5382\n",
            "Epoch: 3/10... Step: 6240... Loss: 2.7666... ppl: 34.4282  Val Loss: 3.5389\n",
            "Epoch: 3/10... Step: 6272... Loss: 2.7074... ppl: 34.3989  Val Loss: 3.5380\n",
            "Epoch: 3/10... Step: 6304... Loss: 3.0837... ppl: 34.1685  Val Loss: 3.5313\n",
            "Epoch: 3/10... Step: 6336... Loss: 3.4077... ppl: 34.0518  Val Loss: 3.5279\n",
            "Epoch: 3/10... Step: 6368... Loss: 3.0882... ppl: 34.2190  Val Loss: 3.5328\n",
            "Epoch: 3/10... Step: 6400... Loss: 3.7359... ppl: 34.1681  Val Loss: 3.5313\n",
            "Epoch: 3/10... Step: 6432... Loss: 3.6294... ppl: 34.2102  Val Loss: 3.5325\n",
            "Epoch: 3/10... Step: 6464... Loss: 3.6102... ppl: 34.3602  Val Loss: 3.5369\n",
            "Epoch: 3/10... Step: 6496... Loss: 2.8422... ppl: 34.2442  Val Loss: 3.5335\n",
            "Epoch: 3/10... Step: 6528... Loss: 3.1080... ppl: 34.2424  Val Loss: 3.5335\n",
            "Epoch: 3/10... Step: 6560... Loss: 3.3954... ppl: 33.9185  Val Loss: 3.5240\n",
            "Epoch: 3/10... Step: 6592... Loss: 2.6097... ppl: 33.9473  Val Loss: 3.5248\n",
            "Epoch: 3/10... Step: 6624... Loss: 3.6840... ppl: 33.7828  Val Loss: 3.5200\n",
            "Epoch: 3/10... Step: 6656... Loss: 3.0643... ppl: 33.8537  Val Loss: 3.5220\n",
            "Epoch: 3/10... Step: 6688... Loss: 2.8048... ppl: 34.0032  Val Loss: 3.5265\n",
            "Epoch: 3/10... Step: 6720... Loss: 2.4765... ppl: 33.8556  Val Loss: 3.5221\n",
            "Epoch: 3/10... Step: 6752... Loss: 3.5525... ppl: 33.7563  Val Loss: 3.5192\n",
            "Epoch: 3/10... Step: 6784... Loss: 3.2121... ppl: 33.9141  Val Loss: 3.5238\n",
            "Epoch: 3/10... Step: 6816... Loss: 2.8156... ppl: 33.9673  Val Loss: 3.5254\n",
            "Epoch: 3/10... Step: 6848... Loss: 2.8400... ppl: 33.6385  Val Loss: 3.5157\n",
            "Epoch: 3/10... Step: 6880... Loss: 2.9316... ppl: 33.7394  Val Loss: 3.5187\n",
            "Epoch: 3/10... Step: 6912... Loss: 4.2281... ppl: 33.8659  Val Loss: 3.5224\n",
            "Epoch: 3/10... Step: 6944... Loss: 3.2605... ppl: 34.0281  Val Loss: 3.5272\n",
            "Epoch: 3/10... Step: 6976... Loss: 3.4381... ppl: 33.7251  Val Loss: 3.5182\n",
            "Epoch: 3/10... Step: 7008... Loss: 3.3496... ppl: 33.6250  Val Loss: 3.5153\n",
            "Epoch: 4/10... Step: 7040... Loss: 3.5078... ppl: 33.5492  Val Loss: 3.5130\n",
            "Epoch: 4/10... Step: 7072... Loss: 3.0292... ppl: 33.9633  Val Loss: 3.5253\n",
            "Epoch: 4/10... Step: 7104... Loss: 3.2500... ppl: 33.5921  Val Loss: 3.5143\n",
            "Epoch: 4/10... Step: 7136... Loss: 2.7977... ppl: 33.8104  Val Loss: 3.5208\n",
            "Epoch: 4/10... Step: 7168... Loss: 3.4945... ppl: 33.8074  Val Loss: 3.5207\n",
            "Epoch: 4/10... Step: 7200... Loss: 2.6176... ppl: 33.6948  Val Loss: 3.5173\n",
            "Epoch: 4/10... Step: 7232... Loss: 2.9963... ppl: 33.7872  Val Loss: 3.5201\n",
            "Epoch: 4/10... Step: 7264... Loss: 4.2145... ppl: 33.7847  Val Loss: 3.5200\n",
            "Epoch: 4/10... Step: 7296... Loss: 3.6535... ppl: 33.8870  Val Loss: 3.5230\n",
            "Epoch: 4/10... Step: 7328... Loss: 2.5921... ppl: 34.2381  Val Loss: 3.5333\n",
            "Epoch: 4/10... Step: 7360... Loss: 2.8640... ppl: 33.9515  Val Loss: 3.5249\n",
            "Epoch: 4/10... Step: 7392... Loss: 3.1841... ppl: 33.7675  Val Loss: 3.5195\n",
            "Epoch: 4/10... Step: 7424... Loss: 2.7865... ppl: 33.6392  Val Loss: 3.5157\n",
            "Epoch: 4/10... Step: 7456... Loss: 2.7660... ppl: 33.8702  Val Loss: 3.5225\n",
            "Epoch: 4/10... Step: 7488... Loss: 3.4605... ppl: 33.9471  Val Loss: 3.5248\n",
            "Epoch: 4/10... Step: 7520... Loss: 1.9370... ppl: 34.0355  Val Loss: 3.5274\n",
            "Epoch: 4/10... Step: 7552... Loss: 3.1566... ppl: 33.8067  Val Loss: 3.5207\n",
            "Epoch: 4/10... Step: 7584... Loss: 2.6170... ppl: 33.8569  Val Loss: 3.5221\n",
            "Epoch: 4/10... Step: 7616... Loss: 2.9362... ppl: 33.9592  Val Loss: 3.5252\n",
            "Epoch: 4/10... Step: 7648... Loss: 3.5093... ppl: 33.8009  Val Loss: 3.5205\n",
            "Epoch: 4/10... Step: 7680... Loss: 2.8637... ppl: 33.8236  Val Loss: 3.5212\n",
            "Epoch: 4/10... Step: 7712... Loss: 2.7922... ppl: 33.8460  Val Loss: 3.5218\n",
            "Epoch: 4/10... Step: 7744... Loss: 3.3236... ppl: 33.7808  Val Loss: 3.5199\n",
            "Epoch: 4/10... Step: 7776... Loss: 3.7384... ppl: 33.8474  Val Loss: 3.5219\n",
            "Epoch: 4/10... Step: 7808... Loss: 3.4375... ppl: 33.5669  Val Loss: 3.5135\n",
            "Epoch: 4/10... Step: 7840... Loss: 2.1758... ppl: 33.6942  Val Loss: 3.5173\n",
            "Epoch: 4/10... Step: 7872... Loss: 3.6378... ppl: 33.8570  Val Loss: 3.5221\n",
            "Epoch: 4/10... Step: 7904... Loss: 2.3465... ppl: 33.6835  Val Loss: 3.5170\n",
            "Epoch: 4/10... Step: 7936... Loss: 3.1630... ppl: 33.7345  Val Loss: 3.5185\n",
            "Epoch: 4/10... Step: 7968... Loss: 3.8794... ppl: 33.5820  Val Loss: 3.5140\n",
            "Epoch: 4/10... Step: 8000... Loss: 2.9541... ppl: 33.8085  Val Loss: 3.5207\n",
            "Epoch: 4/10... Step: 8032... Loss: 3.3592... ppl: 33.7422  Val Loss: 3.5187\n",
            "Epoch: 4/10... Step: 8064... Loss: 2.4785... ppl: 33.7628  Val Loss: 3.5194\n",
            "Epoch: 4/10... Step: 8096... Loss: 3.0897... ppl: 33.6623  Val Loss: 3.5164\n",
            "Epoch: 4/10... Step: 8128... Loss: 2.4105... ppl: 33.4386  Val Loss: 3.5097\n",
            "Epoch: 4/10... Step: 8160... Loss: 2.9325... ppl: 33.6211  Val Loss: 3.5152\n",
            "Epoch: 4/10... Step: 8192... Loss: 3.2650... ppl: 33.5899  Val Loss: 3.5142\n",
            "Epoch: 4/10... Step: 8224... Loss: 3.0277... ppl: 33.5228  Val Loss: 3.5122\n",
            "Epoch: 4/10... Step: 8256... Loss: 2.6617... ppl: 33.3910  Val Loss: 3.5083\n",
            "Epoch: 4/10... Step: 8288... Loss: 3.1461... ppl: 33.4586  Val Loss: 3.5103\n",
            "Epoch: 4/10... Step: 8320... Loss: 3.2742... ppl: 33.3644  Val Loss: 3.5075\n",
            "Epoch: 4/10... Step: 8352... Loss: 2.7922... ppl: 33.3221  Val Loss: 3.5062\n",
            "Epoch: 4/10... Step: 8384... Loss: 2.6938... ppl: 33.6084  Val Loss: 3.5148\n",
            "Epoch: 4/10... Step: 8416... Loss: 2.7917... ppl: 33.4173  Val Loss: 3.5091\n",
            "Epoch: 4/10... Step: 8448... Loss: 3.9487... ppl: 33.3214  Val Loss: 3.5062\n",
            "Epoch: 4/10... Step: 8480... Loss: 2.8322... ppl: 33.4628  Val Loss: 3.5104\n",
            "Epoch: 4/10... Step: 8512... Loss: 2.4738... ppl: 33.4170  Val Loss: 3.5091\n",
            "Epoch: 4/10... Step: 8544... Loss: 3.0838... ppl: 33.4941  Val Loss: 3.5114\n",
            "Epoch: 4/10... Step: 8576... Loss: 2.9233... ppl: 33.4989  Val Loss: 3.5115\n",
            "Epoch: 4/10... Step: 8608... Loss: 3.4690... ppl: 33.4168  Val Loss: 3.5091\n",
            "Epoch: 4/10... Step: 8640... Loss: 3.2975... ppl: 33.3525  Val Loss: 3.5071\n",
            "Epoch: 4/10... Step: 8672... Loss: 2.6247... ppl: 33.1563  Val Loss: 3.5012\n",
            "Epoch: 4/10... Step: 8704... Loss: 3.6826... ppl: 33.2352  Val Loss: 3.5036\n",
            "Epoch: 4/10... Step: 8736... Loss: 2.9862... ppl: 33.2636  Val Loss: 3.5045\n",
            "Epoch: 4/10... Step: 8768... Loss: 2.7702... ppl: 33.3436  Val Loss: 3.5069\n",
            "Epoch: 4/10... Step: 8800... Loss: 3.4020... ppl: 33.4123  Val Loss: 3.5089\n",
            "Epoch: 4/10... Step: 8832... Loss: 3.0116... ppl: 33.4036  Val Loss: 3.5087\n",
            "Epoch: 4/10... Step: 8864... Loss: 3.1450... ppl: 33.5726  Val Loss: 3.5137\n",
            "Epoch: 4/10... Step: 8896... Loss: 2.6385... ppl: 33.2843  Val Loss: 3.5051\n",
            "Epoch: 4/10... Step: 8928... Loss: 2.8772... ppl: 33.2769  Val Loss: 3.5049\n",
            "Epoch: 4/10... Step: 8960... Loss: 2.4086... ppl: 33.0137  Val Loss: 3.4969\n",
            "Epoch: 4/10... Step: 8992... Loss: 3.0207... ppl: 33.0529  Val Loss: 3.4981\n",
            "Epoch: 4/10... Step: 9024... Loss: 3.4853... ppl: 33.3025  Val Loss: 3.5056\n",
            "Epoch: 4/10... Step: 9056... Loss: 2.9680... ppl: 33.1702  Val Loss: 3.5017\n",
            "Epoch: 4/10... Step: 9088... Loss: 3.3945... ppl: 33.1566  Val Loss: 3.5012\n",
            "Epoch: 4/10... Step: 9120... Loss: 2.6311... ppl: 33.2410  Val Loss: 3.5038\n",
            "Epoch: 4/10... Step: 9152... Loss: 2.9797... ppl: 33.3442  Val Loss: 3.5069\n",
            "Epoch: 4/10... Step: 9184... Loss: 3.3442... ppl: 33.0471  Val Loss: 3.4979\n",
            "Epoch: 4/10... Step: 9216... Loss: 2.4398... ppl: 33.1509  Val Loss: 3.5011\n",
            "Epoch: 4/10... Step: 9248... Loss: 3.6899... ppl: 33.1764  Val Loss: 3.5018\n",
            "Epoch: 4/10... Step: 9280... Loss: 2.6275... ppl: 33.6311  Val Loss: 3.5155\n",
            "Epoch: 4/10... Step: 9312... Loss: 3.4016... ppl: 33.1617  Val Loss: 3.5014\n",
            "Epoch: 4/10... Step: 9344... Loss: 3.3808... ppl: 33.0650  Val Loss: 3.4985\n",
            "Epoch: 5/10... Step: 9376... Loss: 1.9843... ppl: 32.9194  Val Loss: 3.4941\n",
            "Epoch: 5/10... Step: 9408... Loss: 3.2655... ppl: 33.3780  Val Loss: 3.5079\n",
            "Epoch: 5/10... Step: 9440... Loss: 2.8782... ppl: 33.0028  Val Loss: 3.4966\n",
            "Epoch: 5/10... Step: 9472... Loss: 2.7823... ppl: 33.1635  Val Loss: 3.5014\n",
            "Epoch: 5/10... Step: 9504... Loss: 3.0751... ppl: 33.3471  Val Loss: 3.5070\n",
            "Epoch: 5/10... Step: 9536... Loss: 2.1306... ppl: 33.1439  Val Loss: 3.5009\n",
            "Epoch: 5/10... Step: 9568... Loss: 1.9208... ppl: 33.4086  Val Loss: 3.5088\n",
            "Epoch: 5/10... Step: 9600... Loss: 3.0638... ppl: 33.2454  Val Loss: 3.5039\n",
            "Epoch: 5/10... Step: 9632... Loss: 3.0058... ppl: 33.4258  Val Loss: 3.5093\n",
            "Epoch: 5/10... Step: 9664... Loss: 3.2032... ppl: 33.6163  Val Loss: 3.5150\n",
            "Epoch: 5/10... Step: 9696... Loss: 2.2876... ppl: 33.6801  Val Loss: 3.5169\n",
            "Epoch: 5/10... Step: 9728... Loss: 3.1860... ppl: 33.4561  Val Loss: 3.5102\n",
            "Epoch: 5/10... Step: 9760... Loss: 2.4415... ppl: 33.2671  Val Loss: 3.5046\n",
            "Epoch: 5/10... Step: 9792... Loss: 3.4628... ppl: 33.5121  Val Loss: 3.5119\n",
            "Epoch: 5/10... Step: 9824... Loss: 3.2700... ppl: 33.6537  Val Loss: 3.5161\n",
            "Epoch: 5/10... Step: 9856... Loss: 2.0149... ppl: 33.8990  Val Loss: 3.5234\n",
            "Epoch: 5/10... Step: 9888... Loss: 3.2598... ppl: 33.6124  Val Loss: 3.5149\n",
            "Epoch: 5/10... Step: 9920... Loss: 2.9770... ppl: 33.6753  Val Loss: 3.5168\n",
            "Epoch: 5/10... Step: 9952... Loss: 3.1750... ppl: 33.4933  Val Loss: 3.5113\n",
            "Epoch: 5/10... Step: 9984... Loss: 3.1080... ppl: 33.5739  Val Loss: 3.5137\n",
            "Epoch: 5/10... Step: 10016... Loss: 2.7597... ppl: 33.6247  Val Loss: 3.5153\n",
            "Epoch: 5/10... Step: 10048... Loss: 2.8004... ppl: 33.6724  Val Loss: 3.5167\n",
            "Epoch: 5/10... Step: 10080... Loss: 2.8885... ppl: 33.6083  Val Loss: 3.5148\n",
            "Epoch: 5/10... Step: 10112... Loss: 3.8017... ppl: 33.6702  Val Loss: 3.5166\n",
            "Epoch: 5/10... Step: 10144... Loss: 2.7033... ppl: 33.4746  Val Loss: 3.5108\n",
            "Epoch: 5/10... Step: 10176... Loss: 2.5038... ppl: 33.5602  Val Loss: 3.5133\n",
            "Epoch: 5/10... Step: 10208... Loss: 3.2512... ppl: 33.6150  Val Loss: 3.5150\n",
            "Epoch: 5/10... Step: 10240... Loss: 3.0231... ppl: 33.5701  Val Loss: 3.5136\n",
            "Epoch: 5/10... Step: 10272... Loss: 3.5804... ppl: 33.5744  Val Loss: 3.5138\n",
            "Epoch: 5/10... Step: 10304... Loss: 3.6585... ppl: 33.4624  Val Loss: 3.5104\n",
            "Epoch: 5/10... Step: 10336... Loss: 2.8009... ppl: 33.6404  Val Loss: 3.5157\n",
            "Epoch: 5/10... Step: 10368... Loss: 2.8074... ppl: 33.5322  Val Loss: 3.5125\n",
            "Epoch: 5/10... Step: 10400... Loss: 2.9533... ppl: 33.4478  Val Loss: 3.5100\n",
            "Epoch: 5/10... Step: 10432... Loss: 2.9896... ppl: 33.6429  Val Loss: 3.5158\n",
            "Epoch: 5/10... Step: 10464... Loss: 3.1300... ppl: 33.3926  Val Loss: 3.5083\n",
            "Epoch: 5/10... Step: 10496... Loss: 2.5798... ppl: 33.3698  Val Loss: 3.5077\n",
            "Epoch: 5/10... Step: 10528... Loss: 3.1968... ppl: 33.5244  Val Loss: 3.5123\n",
            "Epoch: 5/10... Step: 10560... Loss: 3.5198... ppl: 33.2385  Val Loss: 3.5037\n",
            "Epoch: 5/10... Step: 10592... Loss: 2.8942... ppl: 33.4038  Val Loss: 3.5087\n",
            "Epoch: 5/10... Step: 10624... Loss: 2.9969... ppl: 33.4910  Val Loss: 3.5113\n",
            "Epoch: 5/10... Step: 10656... Loss: 3.0047... ppl: 33.2994  Val Loss: 3.5055\n",
            "Epoch: 5/10... Step: 10688... Loss: 2.8102... ppl: 33.3067  Val Loss: 3.5058\n",
            "Epoch: 5/10... Step: 10720... Loss: 2.8304... ppl: 33.5578  Val Loss: 3.5133\n",
            "Epoch: 5/10... Step: 10752... Loss: 2.6180... ppl: 33.5107  Val Loss: 3.5119\n",
            "Epoch: 5/10... Step: 10784... Loss: 3.5652... ppl: 33.2818  Val Loss: 3.5050\n",
            "Epoch: 5/10... Step: 10816... Loss: 3.0601... ppl: 33.4890  Val Loss: 3.5112\n",
            "Epoch: 5/10... Step: 10848... Loss: 3.4060... ppl: 33.4643  Val Loss: 3.5105\n",
            "Epoch: 5/10... Step: 10880... Loss: 2.7603... ppl: 33.4978  Val Loss: 3.5115\n",
            "Epoch: 5/10... Step: 10912... Loss: 2.3773... ppl: 33.4899  Val Loss: 3.5112\n",
            "Epoch: 5/10... Step: 10944... Loss: 3.1480... ppl: 33.4796  Val Loss: 3.5109\n",
            "Epoch: 5/10... Step: 10976... Loss: 3.1441... ppl: 33.4825  Val Loss: 3.5110\n",
            "Epoch: 5/10... Step: 11008... Loss: 3.1878... ppl: 33.3006  Val Loss: 3.5056\n",
            "Epoch: 5/10... Step: 11040... Loss: 3.5581... ppl: 33.2377  Val Loss: 3.5037\n",
            "Epoch: 5/10... Step: 11072... Loss: 3.5912... ppl: 33.4107  Val Loss: 3.5089\n",
            "Epoch: 5/10... Step: 11104... Loss: 3.1253... ppl: 33.3440  Val Loss: 3.5069\n",
            "Epoch: 5/10... Step: 11136... Loss: 3.6500... ppl: 33.3569  Val Loss: 3.5073\n",
            "Epoch: 5/10... Step: 11168... Loss: 2.3651... ppl: 33.4703  Val Loss: 3.5107\n",
            "Epoch: 5/10... Step: 11200... Loss: 2.8505... ppl: 33.7337  Val Loss: 3.5185\n",
            "Epoch: 5/10... Step: 11232... Loss: 2.7720... ppl: 33.4075  Val Loss: 3.5088\n",
            "Epoch: 5/10... Step: 11264... Loss: 2.0926... ppl: 33.2789  Val Loss: 3.5049\n",
            "Epoch: 5/10... Step: 11296... Loss: 2.7057... ppl: 33.3163  Val Loss: 3.5060\n",
            "Epoch: 5/10... Step: 11328... Loss: 3.5970... ppl: 33.1955  Val Loss: 3.5024\n",
            "Epoch: 5/10... Step: 11360... Loss: 2.7946... ppl: 33.4551  Val Loss: 3.5102\n",
            "Epoch: 5/10... Step: 11392... Loss: 2.6439... ppl: 33.3397  Val Loss: 3.5067\n",
            "Epoch: 5/10... Step: 11424... Loss: 3.5106... ppl: 33.3678  Val Loss: 3.5076\n",
            "Epoch: 5/10... Step: 11456... Loss: 2.2738... ppl: 33.3241  Val Loss: 3.5063\n",
            "Epoch: 5/10... Step: 11488... Loss: 2.7550... ppl: 33.5037  Val Loss: 3.5117\n",
            "Epoch: 5/10... Step: 11520... Loss: 2.2576... ppl: 33.2741  Val Loss: 3.5048\n",
            "Epoch: 5/10... Step: 11552... Loss: 3.7730... ppl: 33.1955  Val Loss: 3.5024\n",
            "Epoch: 5/10... Step: 11584... Loss: 3.0558... ppl: 33.3884  Val Loss: 3.5082\n",
            "Epoch: 5/10... Step: 11616... Loss: 2.3708... ppl: 33.7641  Val Loss: 3.5194\n",
            "Epoch: 5/10... Step: 11648... Loss: 2.7789... ppl: 33.4861  Val Loss: 3.5111\n",
            "Epoch: 5/10... Step: 11680... Loss: 3.1546... ppl: 33.3552  Val Loss: 3.5072\n",
            "Epoch: 5/10... Step: 11712... Loss: 3.1033... ppl: 33.1885  Val Loss: 3.5022\n",
            "Epoch: 6/10... Step: 11744... Loss: 3.4436... ppl: 33.5034  Val Loss: 3.5116\n",
            "Epoch: 6/10... Step: 11776... Loss: 2.8407... ppl: 33.3741  Val Loss: 3.5078\n",
            "Epoch: 6/10... Step: 11808... Loss: 2.6458... ppl: 33.3633  Val Loss: 3.5075\n",
            "Epoch: 6/10... Step: 11840... Loss: 3.4144... ppl: 33.5263  Val Loss: 3.5123\n",
            "Epoch: 6/10... Step: 11872... Loss: 2.8831... ppl: 33.4087  Val Loss: 3.5088\n",
            "Epoch: 6/10... Step: 11904... Loss: 3.0652... ppl: 33.6266  Val Loss: 3.5153\n",
            "Epoch: 6/10... Step: 11936... Loss: 3.0286... ppl: 33.5262  Val Loss: 3.5123\n",
            "Epoch: 6/10... Step: 11968... Loss: 2.6917... ppl: 33.6684  Val Loss: 3.5166\n",
            "Epoch: 6/10... Step: 12000... Loss: 2.5888... ppl: 33.7584  Val Loss: 3.5192\n",
            "Epoch: 6/10... Step: 12032... Loss: 3.0471... ppl: 33.9774  Val Loss: 3.5257\n",
            "Epoch: 6/10... Step: 12064... Loss: 3.0933... ppl: 33.7994  Val Loss: 3.5204\n",
            "Epoch: 6/10... Step: 12096... Loss: 3.6977... ppl: 33.5498  Val Loss: 3.5130\n",
            "Epoch: 6/10... Step: 12128... Loss: 2.4996... ppl: 33.6805  Val Loss: 3.5169\n",
            "Epoch: 6/10... Step: 12160... Loss: 2.8607... ppl: 33.9655  Val Loss: 3.5253\n",
            "Epoch: 6/10... Step: 12192... Loss: 2.8194... ppl: 34.1994  Val Loss: 3.5322\n",
            "Epoch: 6/10... Step: 12224... Loss: 2.5448... ppl: 34.0653  Val Loss: 3.5283\n",
            "Epoch: 6/10... Step: 12256... Loss: 2.6026... ppl: 33.9868  Val Loss: 3.5260\n",
            "Epoch: 6/10... Step: 12288... Loss: 2.7585... ppl: 33.8519  Val Loss: 3.5220\n",
            "Epoch: 6/10... Step: 12320... Loss: 2.7843... ppl: 34.0086  Val Loss: 3.5266\n",
            "Epoch: 6/10... Step: 12352... Loss: 2.6520... ppl: 34.0073  Val Loss: 3.5266\n",
            "Epoch: 6/10... Step: 12384... Loss: 2.9611... ppl: 34.1140  Val Loss: 3.5297\n",
            "Epoch: 6/10... Step: 12416... Loss: 2.9140... ppl: 34.1399  Val Loss: 3.5305\n",
            "Epoch: 6/10... Step: 12448... Loss: 2.9044... ppl: 34.0058  Val Loss: 3.5265\n",
            "Epoch: 6/10... Step: 12480... Loss: 2.6290... ppl: 33.9601  Val Loss: 3.5252\n",
            "Epoch: 6/10... Step: 12512... Loss: 2.8416... ppl: 33.9381  Val Loss: 3.5245\n",
            "Epoch: 6/10... Step: 12544... Loss: 2.8671... ppl: 34.0257  Val Loss: 3.5271\n",
            "Epoch: 6/10... Step: 12576... Loss: 2.4729... ppl: 34.2133  Val Loss: 3.5326\n",
            "Epoch: 6/10... Step: 12608... Loss: 3.1730... ppl: 33.9052  Val Loss: 3.5236\n",
            "Epoch: 6/10... Step: 12640... Loss: 2.6385... ppl: 33.8602  Val Loss: 3.5222\n",
            "Epoch: 6/10... Step: 12672... Loss: 3.1990... ppl: 34.0499  Val Loss: 3.5278\n",
            "Epoch: 6/10... Step: 12704... Loss: 2.4489... ppl: 33.9758  Val Loss: 3.5256\n",
            "Epoch: 6/10... Step: 12736... Loss: 3.2330... ppl: 33.8621  Val Loss: 3.5223\n",
            "Epoch: 6/10... Step: 12768... Loss: 2.5483... ppl: 34.2163  Val Loss: 3.5327\n",
            "Epoch: 6/10... Step: 12800... Loss: 2.8645... ppl: 33.9220  Val Loss: 3.5241\n",
            "Epoch: 6/10... Step: 12832... Loss: 2.8965... ppl: 33.8184  Val Loss: 3.5210\n",
            "Epoch: 6/10... Step: 12864... Loss: 2.8448... ppl: 33.9709  Val Loss: 3.5255\n",
            "Epoch: 6/10... Step: 12896... Loss: 3.3367... ppl: 33.6899  Val Loss: 3.5172\n",
            "Epoch: 6/10... Step: 12928... Loss: 2.8072... ppl: 33.9097  Val Loss: 3.5237\n",
            "Epoch: 6/10... Step: 12960... Loss: 2.9501... ppl: 33.9533  Val Loss: 3.5250\n",
            "Epoch: 6/10... Step: 12992... Loss: 3.0501... ppl: 33.8699  Val Loss: 3.5225\n",
            "Epoch: 6/10... Step: 13024... Loss: 2.5108... ppl: 33.8820  Val Loss: 3.5229\n",
            "Epoch: 6/10... Step: 13056... Loss: 2.6890... ppl: 33.9086  Val Loss: 3.5237\n",
            "Epoch: 6/10... Step: 13088... Loss: 2.6761... ppl: 34.1778  Val Loss: 3.5316\n",
            "Epoch: 6/10... Step: 13120... Loss: 3.2923... ppl: 33.7797  Val Loss: 3.5199\n",
            "Epoch: 6/10... Step: 13152... Loss: 2.7633... ppl: 33.9782  Val Loss: 3.5257\n",
            "Epoch: 6/10... Step: 13184... Loss: 3.2061... ppl: 33.9416  Val Loss: 3.5246\n",
            "Epoch: 6/10... Step: 13216... Loss: 3.3396... ppl: 33.9475  Val Loss: 3.5248\n",
            "Epoch: 6/10... Step: 13248... Loss: 3.3136... ppl: 33.9921  Val Loss: 3.5261\n",
            "Epoch: 6/10... Step: 13280... Loss: 3.2182... ppl: 34.0298  Val Loss: 3.5272\n",
            "Epoch: 6/10... Step: 13312... Loss: 2.9082... ppl: 33.9915  Val Loss: 3.5261\n",
            "Epoch: 6/10... Step: 13344... Loss: 2.5307... ppl: 33.9162  Val Loss: 3.5239\n",
            "Epoch: 6/10... Step: 13376... Loss: 2.6337... ppl: 33.7290  Val Loss: 3.5184\n",
            "Epoch: 6/10... Step: 13408... Loss: 2.2457... ppl: 33.9650  Val Loss: 3.5253\n",
            "Epoch: 6/10... Step: 13440... Loss: 3.1753... ppl: 33.8463  Val Loss: 3.5218\n",
            "Epoch: 6/10... Step: 13472... Loss: 3.1559... ppl: 33.9092  Val Loss: 3.5237\n",
            "Epoch: 6/10... Step: 13504... Loss: 2.7678... ppl: 34.0166  Val Loss: 3.5268\n",
            "Epoch: 6/10... Step: 13536... Loss: 3.0861... ppl: 34.2184  Val Loss: 3.5328\n",
            "Epoch: 6/10... Step: 13568... Loss: 2.8972... ppl: 33.9909  Val Loss: 3.5261\n",
            "Epoch: 6/10... Step: 13600... Loss: 2.7991... ppl: 33.7769  Val Loss: 3.5198\n",
            "Epoch: 6/10... Step: 13632... Loss: 3.5785... ppl: 33.9993  Val Loss: 3.5263\n",
            "Epoch: 6/10... Step: 13664... Loss: 2.6788... ppl: 33.7330  Val Loss: 3.5185\n",
            "Epoch: 6/10... Step: 13696... Loss: 3.1558... ppl: 33.8304  Val Loss: 3.5214\n",
            "Epoch: 6/10... Step: 13728... Loss: 2.4828... ppl: 33.9565  Val Loss: 3.5251\n",
            "Epoch: 6/10... Step: 13760... Loss: 3.2474... ppl: 33.8096  Val Loss: 3.5207\n",
            "Epoch: 6/10... Step: 13792... Loss: 3.0935... ppl: 33.8805  Val Loss: 3.5228\n",
            "Epoch: 6/10... Step: 13824... Loss: 2.4946... ppl: 34.0314  Val Loss: 3.5273\n",
            "Epoch: 6/10... Step: 13856... Loss: 3.1836... ppl: 33.9870  Val Loss: 3.5260\n",
            "Epoch: 6/10... Step: 13888... Loss: 2.8334... ppl: 33.7960  Val Loss: 3.5203\n",
            "Epoch: 6/10... Step: 13920... Loss: 3.3535... ppl: 33.8752  Val Loss: 3.5227\n",
            "Epoch: 6/10... Step: 13952... Loss: 2.2131... ppl: 34.1318  Val Loss: 3.5302\n",
            "Epoch: 6/10... Step: 13984... Loss: 3.0777... ppl: 34.1218  Val Loss: 3.5299\n",
            "Epoch: 6/10... Step: 14016... Loss: 2.5766... ppl: 33.9631  Val Loss: 3.5253\n",
            "Epoch: 6/10... Step: 14048... Loss: 2.4522... ppl: 33.7933  Val Loss: 3.5203\n",
            "Epoch: 7/10... Step: 14080... Loss: 3.0169... ppl: 33.8657  Val Loss: 3.5224\n",
            "Epoch: 7/10... Step: 14112... Loss: 2.0899... ppl: 34.1983  Val Loss: 3.5322\n",
            "Epoch: 7/10... Step: 14144... Loss: 2.7092... ppl: 33.8379  Val Loss: 3.5216\n",
            "Epoch: 7/10... Step: 14176... Loss: 2.6513... ppl: 34.1028  Val Loss: 3.5294\n",
            "Epoch: 7/10... Step: 14208... Loss: 2.4177... ppl: 34.0358  Val Loss: 3.5274\n",
            "Epoch: 7/10... Step: 14240... Loss: 2.7879... ppl: 34.1132  Val Loss: 3.5297\n",
            "Epoch: 7/10... Step: 14272... Loss: 2.4417... ppl: 34.1182  Val Loss: 3.5298\n",
            "Epoch: 7/10... Step: 14304... Loss: 2.3350... ppl: 34.2353  Val Loss: 3.5333\n",
            "Epoch: 7/10... Step: 14336... Loss: 2.7170... ppl: 34.2832  Val Loss: 3.5347\n",
            "Epoch: 7/10... Step: 14368... Loss: 3.4436... ppl: 34.7087  Val Loss: 3.5470\n",
            "Epoch: 7/10... Step: 14400... Loss: 2.5231... ppl: 34.4281  Val Loss: 3.5389\n",
            "Epoch: 7/10... Step: 14432... Loss: 2.9608... ppl: 34.3251  Val Loss: 3.5359\n",
            "Epoch: 7/10... Step: 14464... Loss: 3.0739... ppl: 34.1951  Val Loss: 3.5321\n",
            "Epoch: 7/10... Step: 14496... Loss: 3.1395... ppl: 34.5781  Val Loss: 3.5432\n",
            "Epoch: 7/10... Step: 14528... Loss: 2.1276... ppl: 34.8342  Val Loss: 3.5506\n",
            "Epoch: 7/10... Step: 14560... Loss: 2.3970... ppl: 34.8073  Val Loss: 3.5498\n",
            "Epoch: 7/10... Step: 14592... Loss: 2.5047... ppl: 34.5588  Val Loss: 3.5427\n",
            "Epoch: 7/10... Step: 14624... Loss: 2.1839... ppl: 34.4817  Val Loss: 3.5404\n",
            "Epoch: 7/10... Step: 14656... Loss: 2.9271... ppl: 34.8009  Val Loss: 3.5496\n",
            "Epoch: 7/10... Step: 14688... Loss: 2.9605... ppl: 34.6894  Val Loss: 3.5464\n",
            "Epoch: 7/10... Step: 14720... Loss: 3.6801... ppl: 34.8118  Val Loss: 3.5500\n",
            "Epoch: 7/10... Step: 14752... Loss: 3.0098... ppl: 34.9183  Val Loss: 3.5530\n",
            "Epoch: 7/10... Step: 14784... Loss: 2.1506... ppl: 34.6755  Val Loss: 3.5460\n",
            "Epoch: 7/10... Step: 14816... Loss: 2.6278... ppl: 34.7580  Val Loss: 3.5484\n",
            "Epoch: 7/10... Step: 14848... Loss: 2.5345... ppl: 34.5834  Val Loss: 3.5434\n",
            "Epoch: 7/10... Step: 14880... Loss: 2.7830... ppl: 34.7498  Val Loss: 3.5482\n",
            "Epoch: 7/10... Step: 14912... Loss: 2.5588... ppl: 35.0350  Val Loss: 3.5563\n",
            "Epoch: 7/10... Step: 14944... Loss: 3.0799... ppl: 34.6403  Val Loss: 3.5450\n",
            "Epoch: 7/10... Step: 14976... Loss: 2.6467... ppl: 34.4566  Val Loss: 3.5397\n",
            "Epoch: 7/10... Step: 15008... Loss: 2.8851... ppl: 34.7089  Val Loss: 3.5470\n",
            "Epoch: 7/10... Step: 15040... Loss: 2.1321... ppl: 34.6625  Val Loss: 3.5457\n",
            "Epoch: 7/10... Step: 15072... Loss: 3.0330... ppl: 34.5953  Val Loss: 3.5437\n",
            "Epoch: 7/10... Step: 15104... Loss: 2.8555... ppl: 34.9312  Val Loss: 3.5534\n",
            "Epoch: 7/10... Step: 15136... Loss: 3.1922... ppl: 34.8732  Val Loss: 3.5517\n",
            "Epoch: 7/10... Step: 15168... Loss: 2.4041... ppl: 34.5512  Val Loss: 3.5424\n",
            "Epoch: 7/10... Step: 15200... Loss: 2.6650... ppl: 34.8023  Val Loss: 3.5497\n",
            "Epoch: 7/10... Step: 15232... Loss: 3.1104... ppl: 34.5153  Val Loss: 3.5414\n",
            "Epoch: 7/10... Step: 15264... Loss: 2.8009... ppl: 34.6348  Val Loss: 3.5449\n",
            "Epoch: 7/10... Step: 15296... Loss: 2.9017... ppl: 34.5921  Val Loss: 3.5436\n",
            "Epoch: 7/10... Step: 15328... Loss: 2.6827... ppl: 34.7506  Val Loss: 3.5482\n",
            "Epoch: 7/10... Step: 15360... Loss: 2.7535... ppl: 34.7495  Val Loss: 3.5482\n",
            "Epoch: 7/10... Step: 15392... Loss: 2.7264... ppl: 34.6119  Val Loss: 3.5442\n",
            "Epoch: 7/10... Step: 15424... Loss: 2.2554... ppl: 34.9901  Val Loss: 3.5551\n",
            "Epoch: 7/10... Step: 15456... Loss: 3.1776... ppl: 34.7188  Val Loss: 3.5473\n",
            "Epoch: 7/10... Step: 15488... Loss: 2.6765... ppl: 34.6918  Val Loss: 3.5465\n",
            "Epoch: 7/10... Step: 15520... Loss: 2.9852... ppl: 34.8108  Val Loss: 3.5499\n",
            "Epoch: 7/10... Step: 15552... Loss: 2.5727... ppl: 34.6661  Val Loss: 3.5458\n",
            "Epoch: 7/10... Step: 15584... Loss: 3.2760... ppl: 34.7865  Val Loss: 3.5492\n",
            "Epoch: 7/10... Step: 15616... Loss: 2.1691... ppl: 34.7455  Val Loss: 3.5480\n",
            "Epoch: 7/10... Step: 15648... Loss: 2.9227... ppl: 34.8038  Val Loss: 3.5497\n",
            "Epoch: 7/10... Step: 15680... Loss: 2.6594... ppl: 34.8431  Val Loss: 3.5509\n",
            "Epoch: 7/10... Step: 15712... Loss: 2.1261... ppl: 34.4769  Val Loss: 3.5403\n",
            "Epoch: 7/10... Step: 15744... Loss: 2.7047... ppl: 34.7290  Val Loss: 3.5476\n",
            "Epoch: 7/10... Step: 15776... Loss: 2.9713... ppl: 34.7095  Val Loss: 3.5470\n",
            "Epoch: 7/10... Step: 15808... Loss: 3.1231... ppl: 34.7378  Val Loss: 3.5478\n",
            "Epoch: 7/10... Step: 15840... Loss: 3.5518... ppl: 34.8052  Val Loss: 3.5498\n",
            "Epoch: 7/10... Step: 15872... Loss: 3.1919... ppl: 34.6900  Val Loss: 3.5465\n",
            "Epoch: 7/10... Step: 15904... Loss: 2.4629... ppl: 34.7776  Val Loss: 3.5490\n",
            "Epoch: 7/10... Step: 15936... Loss: 2.6282... ppl: 34.5699  Val Loss: 3.5430\n",
            "Epoch: 7/10... Step: 15968... Loss: 2.0199... ppl: 34.8067  Val Loss: 3.5498\n",
            "Epoch: 7/10... Step: 16000... Loss: 2.8537... ppl: 34.5459  Val Loss: 3.5423\n",
            "Epoch: 7/10... Step: 16032... Loss: 2.5517... ppl: 34.5274  Val Loss: 3.5418\n",
            "Epoch: 7/10... Step: 16064... Loss: 2.2642... ppl: 34.8351  Val Loss: 3.5506\n",
            "Epoch: 7/10... Step: 16096... Loss: 2.2251... ppl: 34.5508  Val Loss: 3.5424\n",
            "Epoch: 7/10... Step: 16128... Loss: 2.5190... ppl: 34.5709  Val Loss: 3.5430\n",
            "Epoch: 7/10... Step: 16160... Loss: 2.6771... ppl: 34.7532  Val Loss: 3.5483\n",
            "Epoch: 7/10... Step: 16192... Loss: 2.5483... ppl: 34.8583  Val Loss: 3.5513\n",
            "Epoch: 7/10... Step: 16224... Loss: 3.1882... ppl: 34.5533  Val Loss: 3.5425\n",
            "Epoch: 7/10... Step: 16256... Loss: 2.4880... ppl: 34.7170  Val Loss: 3.5472\n",
            "Epoch: 7/10... Step: 16288... Loss: 2.7432... ppl: 34.7597  Val Loss: 3.5485\n",
            "Epoch: 7/10... Step: 16320... Loss: 2.3297... ppl: 35.0605  Val Loss: 3.5571\n",
            "Epoch: 7/10... Step: 16352... Loss: 2.5161... ppl: 34.8327  Val Loss: 3.5506\n",
            "Epoch: 7/10... Step: 16384... Loss: 3.3660... ppl: 34.5945  Val Loss: 3.5437\n",
            "Epoch: 8/10... Step: 16416... Loss: 3.1925... ppl: 34.5870  Val Loss: 3.5435\n",
            "Epoch: 8/10... Step: 16448... Loss: 2.5753... ppl: 35.0491  Val Loss: 3.5568\n",
            "Epoch: 8/10... Step: 16480... Loss: 2.5918... ppl: 34.6945  Val Loss: 3.5466\n",
            "Epoch: 8/10... Step: 16512... Loss: 1.7744... ppl: 34.7559  Val Loss: 3.5483\n",
            "Epoch: 8/10... Step: 16544... Loss: 2.6148... ppl: 34.9229  Val Loss: 3.5531\n",
            "Epoch: 8/10... Step: 16576... Loss: 2.9007... ppl: 34.8843  Val Loss: 3.5520\n",
            "Epoch: 8/10... Step: 16608... Loss: 2.8799... ppl: 34.9688  Val Loss: 3.5545\n",
            "Epoch: 8/10... Step: 16640... Loss: 2.4941... ppl: 34.9426  Val Loss: 3.5537\n",
            "Epoch: 8/10... Step: 16672... Loss: 2.6886... ppl: 35.0935  Val Loss: 3.5580\n",
            "Epoch: 8/10... Step: 16704... Loss: 2.7497... ppl: 35.5795  Val Loss: 3.5718\n",
            "Epoch: 8/10... Step: 16736... Loss: 2.9912... ppl: 35.4638  Val Loss: 3.5685\n",
            "Epoch: 8/10... Step: 16768... Loss: 2.8074... ppl: 35.2272  Val Loss: 3.5618\n",
            "Epoch: 8/10... Step: 16800... Loss: 2.2896... ppl: 34.9575  Val Loss: 3.5541\n",
            "Epoch: 8/10... Step: 16832... Loss: 2.4411... ppl: 35.2379  Val Loss: 3.5621\n",
            "Epoch: 8/10... Step: 16864... Loss: 2.6717... ppl: 35.6265  Val Loss: 3.5731\n",
            "Epoch: 8/10... Step: 16896... Loss: 2.3664... ppl: 35.8032  Val Loss: 3.5780\n",
            "Epoch: 8/10... Step: 16928... Loss: 2.4004... ppl: 35.4419  Val Loss: 3.5679\n",
            "Epoch: 8/10... Step: 16960... Loss: 2.4295... ppl: 35.3690  Val Loss: 3.5658\n",
            "Epoch: 8/10... Step: 16992... Loss: 2.6252... ppl: 35.5873  Val Loss: 3.5720\n",
            "Epoch: 8/10... Step: 17024... Loss: 2.2960... ppl: 35.4805  Val Loss: 3.5690\n",
            "Epoch: 8/10... Step: 17056... Loss: 2.5736... ppl: 35.5899  Val Loss: 3.5721\n",
            "Epoch: 8/10... Step: 17088... Loss: 3.1780... ppl: 35.7016  Val Loss: 3.5752\n",
            "Epoch: 8/10... Step: 17120... Loss: 2.6370... ppl: 35.6081  Val Loss: 3.5726\n",
            "Epoch: 8/10... Step: 17152... Loss: 3.0857... ppl: 35.7593  Val Loss: 3.5768\n",
            "Epoch: 8/10... Step: 17184... Loss: 2.5491... ppl: 35.3173  Val Loss: 3.5644\n",
            "Epoch: 8/10... Step: 17216... Loss: 2.4534... ppl: 35.6314  Val Loss: 3.5732\n",
            "Epoch: 8/10... Step: 17248... Loss: 2.3240... ppl: 35.8193  Val Loss: 3.5785\n",
            "Epoch: 8/10... Step: 17280... Loss: 2.2922... ppl: 35.6077  Val Loss: 3.5726\n",
            "Epoch: 8/10... Step: 17312... Loss: 3.5018... ppl: 35.3376  Val Loss: 3.5649\n",
            "Epoch: 8/10... Step: 17344... Loss: 2.6958... ppl: 35.5024  Val Loss: 3.5696\n",
            "Epoch: 8/10... Step: 17376... Loss: 2.8174... ppl: 35.6463  Val Loss: 3.5736\n",
            "Epoch: 8/10... Step: 17408... Loss: 2.6767... ppl: 35.5290  Val Loss: 3.5703\n",
            "Epoch: 8/10... Step: 17440... Loss: 2.5874... ppl: 35.7182  Val Loss: 3.5757\n",
            "Epoch: 8/10... Step: 17472... Loss: 2.7366... ppl: 35.9268  Val Loss: 3.5815\n",
            "Epoch: 8/10... Step: 17504... Loss: 2.6877... ppl: 35.4698  Val Loss: 3.5687\n",
            "Epoch: 8/10... Step: 17536... Loss: 2.7118... ppl: 35.6569  Val Loss: 3.5739\n",
            "Epoch: 8/10... Step: 17568... Loss: 2.8379... ppl: 35.6497  Val Loss: 3.5737\n",
            "Epoch: 8/10... Step: 17600... Loss: 2.6383... ppl: 35.4338  Val Loss: 3.5677\n",
            "Epoch: 8/10... Step: 17632... Loss: 2.7163... ppl: 35.3904  Val Loss: 3.5664\n",
            "Epoch: 8/10... Step: 17664... Loss: 2.6268... ppl: 35.4957  Val Loss: 3.5694\n",
            "Epoch: 8/10... Step: 17696... Loss: 3.0172... ppl: 35.5378  Val Loss: 3.5706\n",
            "Epoch: 8/10... Step: 17728... Loss: 3.1106... ppl: 35.4740  Val Loss: 3.5688\n",
            "Epoch: 8/10... Step: 17760... Loss: 2.6706... ppl: 35.8240  Val Loss: 3.5786\n",
            "Epoch: 8/10... Step: 17792... Loss: 2.4575... ppl: 35.6783  Val Loss: 3.5745\n",
            "Epoch: 8/10... Step: 17824... Loss: 2.8355... ppl: 35.4987  Val Loss: 3.5695\n",
            "Epoch: 8/10... Step: 17856... Loss: 2.2504... ppl: 35.6700  Val Loss: 3.5743\n",
            "Epoch: 8/10... Step: 17888... Loss: 2.7768... ppl: 35.5516  Val Loss: 3.5710\n",
            "Epoch: 8/10... Step: 17920... Loss: 2.1834... ppl: 35.5989  Val Loss: 3.5723\n",
            "Epoch: 8/10... Step: 17952... Loss: 2.8282... ppl: 35.7074  Val Loss: 3.5754\n",
            "Epoch: 8/10... Step: 17984... Loss: 2.7006... ppl: 35.7285  Val Loss: 3.5759\n",
            "Epoch: 8/10... Step: 18016... Loss: 2.7201... ppl: 35.7105  Val Loss: 3.5754\n",
            "Epoch: 8/10... Step: 18048... Loss: 3.1185... ppl: 35.4790  Val Loss: 3.5689\n",
            "Epoch: 8/10... Step: 18080... Loss: 2.9452... ppl: 35.6228  Val Loss: 3.5730\n",
            "Epoch: 8/10... Step: 18112... Loss: 2.2315... ppl: 35.6502  Val Loss: 3.5738\n",
            "Epoch: 8/10... Step: 18144... Loss: 3.3037... ppl: 35.5272  Val Loss: 3.5703\n",
            "Epoch: 8/10... Step: 18176... Loss: 2.8768... ppl: 35.5136  Val Loss: 3.5699\n",
            "Epoch: 8/10... Step: 18208... Loss: 2.8052... ppl: 35.5794  Val Loss: 3.5718\n",
            "Epoch: 8/10... Step: 18240... Loss: 2.8562... ppl: 35.7876  Val Loss: 3.5776\n",
            "Epoch: 8/10... Step: 18272... Loss: 2.0215... ppl: 35.5391  Val Loss: 3.5706\n",
            "Epoch: 8/10... Step: 18304... Loss: 2.8149... ppl: 35.5026  Val Loss: 3.5696\n",
            "Epoch: 8/10... Step: 18336... Loss: 2.9898... ppl: 35.4543  Val Loss: 3.5682\n",
            "Epoch: 8/10... Step: 18368... Loss: 2.9033... ppl: 35.3201  Val Loss: 3.5645\n",
            "Epoch: 8/10... Step: 18400... Loss: 2.7338... ppl: 35.7509  Val Loss: 3.5766\n",
            "Epoch: 8/10... Step: 18432... Loss: 3.0784... ppl: 35.5565  Val Loss: 3.5711\n",
            "Epoch: 8/10... Step: 18464... Loss: 2.3595... ppl: 35.4285  Val Loss: 3.5675\n",
            "Epoch: 8/10... Step: 18496... Loss: 2.1382... ppl: 35.6375  Val Loss: 3.5734\n",
            "Epoch: 8/10... Step: 18528... Loss: 2.9416... ppl: 35.8318  Val Loss: 3.5788\n",
            "Epoch: 8/10... Step: 18560... Loss: 2.3515... ppl: 35.5790  Val Loss: 3.5718\n",
            "Epoch: 8/10... Step: 18592... Loss: 2.8438... ppl: 35.6698  Val Loss: 3.5743\n",
            "Epoch: 8/10... Step: 18624... Loss: 2.8280... ppl: 35.6805  Val Loss: 3.5746\n",
            "Epoch: 8/10... Step: 18656... Loss: 3.5903... ppl: 36.1982  Val Loss: 3.5890\n",
            "Epoch: 8/10... Step: 18688... Loss: 2.2810... ppl: 35.8757  Val Loss: 3.5801\n",
            "Epoch: 8/10... Step: 18720... Loss: 2.5699... ppl: 35.5231  Val Loss: 3.5702\n",
            "Epoch: 9/10... Step: 18752... Loss: 2.4514... ppl: 35.4540  Val Loss: 3.5682\n",
            "Epoch: 9/10... Step: 18784... Loss: 2.5471... ppl: 35.8280  Val Loss: 3.5787\n",
            "Epoch: 9/10... Step: 18816... Loss: 2.9660... ppl: 35.6156  Val Loss: 3.5728\n",
            "Epoch: 9/10... Step: 18848... Loss: 2.7624... ppl: 35.6285  Val Loss: 3.5731\n",
            "Epoch: 9/10... Step: 18880... Loss: 2.8594... ppl: 35.9024  Val Loss: 3.5808\n",
            "Epoch: 9/10... Step: 18912... Loss: 2.8234... ppl: 35.8142  Val Loss: 3.5783\n",
            "Epoch: 9/10... Step: 18944... Loss: 2.8042... ppl: 35.8761  Val Loss: 3.5801\n",
            "Epoch: 9/10... Step: 18976... Loss: 2.8005... ppl: 35.8195  Val Loss: 3.5785\n",
            "Epoch: 9/10... Step: 19008... Loss: 2.9815... ppl: 35.9582  Val Loss: 3.5824\n",
            "Epoch: 9/10... Step: 19040... Loss: 2.4925... ppl: 36.4086  Val Loss: 3.5948\n",
            "Epoch: 9/10... Step: 19072... Loss: 2.6052... ppl: 36.4807  Val Loss: 3.5968\n",
            "Epoch: 9/10... Step: 19104... Loss: 2.4457... ppl: 36.1986  Val Loss: 3.5890\n",
            "Epoch: 9/10... Step: 19136... Loss: 1.9076... ppl: 35.9931  Val Loss: 3.5833\n",
            "Epoch: 9/10... Step: 19168... Loss: 2.2233... ppl: 36.0647  Val Loss: 3.5853\n",
            "Epoch: 9/10... Step: 19200... Loss: 2.9940... ppl: 36.5747  Val Loss: 3.5994\n",
            "Epoch: 9/10... Step: 19232... Loss: 3.0467... ppl: 36.9121  Val Loss: 3.6085\n",
            "Epoch: 9/10... Step: 19264... Loss: 2.7699... ppl: 36.6544  Val Loss: 3.6015\n",
            "Epoch: 9/10... Step: 19296... Loss: 3.2042... ppl: 36.5461  Val Loss: 3.5986\n",
            "Epoch: 9/10... Step: 19328... Loss: 2.8422... ppl: 36.5573  Val Loss: 3.5989\n",
            "Epoch: 9/10... Step: 19360... Loss: 3.0681... ppl: 36.6085  Val Loss: 3.6003\n",
            "Epoch: 9/10... Step: 19392... Loss: 2.3979... ppl: 36.7470  Val Loss: 3.6041\n",
            "Epoch: 9/10... Step: 19424... Loss: 2.7698... ppl: 36.6975  Val Loss: 3.6027\n",
            "Epoch: 9/10... Step: 19456... Loss: 2.6489... ppl: 36.7270  Val Loss: 3.6035\n",
            "Epoch: 9/10... Step: 19488... Loss: 2.4487... ppl: 36.7733  Val Loss: 3.6048\n",
            "Epoch: 9/10... Step: 19520... Loss: 2.5644... ppl: 36.4424  Val Loss: 3.5957\n",
            "Epoch: 9/10... Step: 19552... Loss: 2.2637... ppl: 36.6240  Val Loss: 3.6007\n",
            "Epoch: 9/10... Step: 19584... Loss: 2.2096... ppl: 36.8229  Val Loss: 3.6061\n",
            "Epoch: 9/10... Step: 19616... Loss: 2.7192... ppl: 36.7442  Val Loss: 3.6040\n",
            "Epoch: 9/10... Step: 19648... Loss: 2.8492... ppl: 36.4393  Val Loss: 3.5956\n",
            "Epoch: 9/10... Step: 19680... Loss: 2.6957... ppl: 36.3863  Val Loss: 3.5942\n",
            "Epoch: 9/10... Step: 19712... Loss: 2.3086... ppl: 36.6916  Val Loss: 3.6025\n",
            "Epoch: 9/10... Step: 19744... Loss: 1.9774... ppl: 36.6351  Val Loss: 3.6010\n",
            "Epoch: 9/10... Step: 19776... Loss: 2.9449... ppl: 36.5742  Val Loss: 3.5993\n",
            "Epoch: 9/10... Step: 19808... Loss: 2.1078... ppl: 36.9022  Val Loss: 3.6083\n",
            "Epoch: 9/10... Step: 19840... Loss: 2.2521... ppl: 36.5302  Val Loss: 3.5981\n",
            "Epoch: 9/10... Step: 19872... Loss: 2.7612... ppl: 36.6405  Val Loss: 3.6012\n",
            "Epoch: 9/10... Step: 19904... Loss: 2.5077... ppl: 36.7298  Val Loss: 3.6036\n",
            "Epoch: 9/10... Step: 19936... Loss: 2.4331... ppl: 36.4147  Val Loss: 3.5950\n",
            "Epoch: 9/10... Step: 19968... Loss: 2.5541... ppl: 36.4415  Val Loss: 3.5957\n",
            "Epoch: 9/10... Step: 20000... Loss: 2.9935... ppl: 36.5676  Val Loss: 3.5992\n",
            "Epoch: 9/10... Step: 20032... Loss: 2.8278... ppl: 36.4241  Val Loss: 3.5952\n",
            "Epoch: 9/10... Step: 20064... Loss: 2.4736... ppl: 36.4460  Val Loss: 3.5958\n",
            "Epoch: 9/10... Step: 20096... Loss: 2.6077... ppl: 36.8148  Val Loss: 3.6059\n",
            "Epoch: 9/10... Step: 20128... Loss: 2.8114... ppl: 36.9905  Val Loss: 3.6107\n",
            "Epoch: 9/10... Step: 20160... Loss: 2.8726... ppl: 36.5122  Val Loss: 3.5976\n",
            "Epoch: 9/10... Step: 20192... Loss: 2.2868... ppl: 36.7010  Val Loss: 3.6028\n",
            "Epoch: 9/10... Step: 20224... Loss: 2.3850... ppl: 36.6077  Val Loss: 3.6003\n",
            "Epoch: 9/10... Step: 20256... Loss: 2.3955... ppl: 36.5365  Val Loss: 3.5983\n",
            "Epoch: 9/10... Step: 20288... Loss: 2.8955... ppl: 36.6813  Val Loss: 3.6023\n",
            "Epoch: 9/10... Step: 20320... Loss: 2.7131... ppl: 36.7931  Val Loss: 3.6053\n",
            "Epoch: 9/10... Step: 20352... Loss: 2.4079... ppl: 36.7728  Val Loss: 3.6048\n",
            "Epoch: 9/10... Step: 20384... Loss: 2.7770... ppl: 36.6609  Val Loss: 3.6017\n",
            "Epoch: 9/10... Step: 20416... Loss: 2.5740... ppl: 36.5836  Val Loss: 3.5996\n",
            "Epoch: 9/10... Step: 20448... Loss: 2.4135... ppl: 36.6814  Val Loss: 3.6023\n",
            "Epoch: 9/10... Step: 20480... Loss: 2.3648... ppl: 36.5720  Val Loss: 3.5993\n",
            "Epoch: 9/10... Step: 20512... Loss: 2.7454... ppl: 36.4487  Val Loss: 3.5959\n",
            "Epoch: 9/10... Step: 20544... Loss: 2.6088... ppl: 36.6182  Val Loss: 3.6005\n",
            "Epoch: 9/10... Step: 20576... Loss: 2.6104... ppl: 36.9492  Val Loss: 3.6095\n",
            "Epoch: 9/10... Step: 20608... Loss: 2.4965... ppl: 36.6347  Val Loss: 3.6010\n",
            "Epoch: 9/10... Step: 20640... Loss: 2.3296... ppl: 36.5856  Val Loss: 3.5997\n",
            "Epoch: 9/10... Step: 20672... Loss: 2.7976... ppl: 36.6762  Val Loss: 3.6021\n",
            "Epoch: 9/10... Step: 20704... Loss: 2.7767... ppl: 36.2947  Val Loss: 3.5917\n",
            "Epoch: 9/10... Step: 20736... Loss: 2.5174... ppl: 36.6528  Val Loss: 3.6015\n",
            "Epoch: 9/10... Step: 20768... Loss: 2.9422... ppl: 36.6233  Val Loss: 3.6007\n",
            "Epoch: 9/10... Step: 20800... Loss: 2.7778... ppl: 36.5960  Val Loss: 3.5999\n",
            "Epoch: 9/10... Step: 20832... Loss: 2.7718... ppl: 36.7107  Val Loss: 3.6031\n",
            "Epoch: 9/10... Step: 20864... Loss: 2.4009... ppl: 36.8935  Val Loss: 3.6080\n",
            "Epoch: 9/10... Step: 20896... Loss: 2.7629... ppl: 36.6285  Val Loss: 3.6008\n",
            "Epoch: 9/10... Step: 20928... Loss: 2.4419... ppl: 36.6413  Val Loss: 3.6012\n",
            "Epoch: 9/10... Step: 20960... Loss: 2.5807... ppl: 36.6795  Val Loss: 3.6022\n",
            "Epoch: 9/10... Step: 20992... Loss: 2.1696... ppl: 37.2448  Val Loss: 3.6175\n",
            "Epoch: 9/10... Step: 21024... Loss: 2.3469... ppl: 37.0582  Val Loss: 3.6125\n",
            "Epoch: 9/10... Step: 21056... Loss: 2.6458... ppl: 36.7007  Val Loss: 3.6028\n",
            "Epoch: 10/10... Step: 21088... Loss: 2.7155... ppl: 36.5952  Val Loss: 3.5999\n",
            "Epoch: 10/10... Step: 21120... Loss: 2.5498... ppl: 36.8602  Val Loss: 3.6071\n",
            "Epoch: 10/10... Step: 21152... Loss: 2.6133... ppl: 36.7620  Val Loss: 3.6045\n",
            "Epoch: 10/10... Step: 21184... Loss: 2.7065... ppl: 36.6436  Val Loss: 3.6012\n",
            "Epoch: 10/10... Step: 21216... Loss: 2.2940... ppl: 36.8759  Val Loss: 3.6076\n",
            "Epoch: 10/10... Step: 21248... Loss: 2.4168... ppl: 36.8951  Val Loss: 3.6081\n",
            "Epoch: 10/10... Step: 21280... Loss: 3.1319... ppl: 37.0987  Val Loss: 3.6136\n",
            "Epoch: 10/10... Step: 21312... Loss: 2.6133... ppl: 36.9695  Val Loss: 3.6101\n",
            "Epoch: 10/10... Step: 21344... Loss: 2.7056... ppl: 37.1912  Val Loss: 3.6161\n",
            "Epoch: 10/10... Step: 21376... Loss: 2.3776... ppl: 37.2763  Val Loss: 3.6184\n",
            "Epoch: 10/10... Step: 21408... Loss: 2.5862... ppl: 37.6900  Val Loss: 3.6294\n",
            "Epoch: 10/10... Step: 21440... Loss: 2.7252... ppl: 37.5054  Val Loss: 3.6245\n",
            "Epoch: 10/10... Step: 21472... Loss: 2.4954... ppl: 36.9934  Val Loss: 3.6107\n",
            "Epoch: 10/10... Step: 21504... Loss: 2.5927... ppl: 37.0680  Val Loss: 3.6128\n",
            "Epoch: 10/10... Step: 21536... Loss: 2.3714... ppl: 37.4932  Val Loss: 3.6242\n",
            "Epoch: 10/10... Step: 21568... Loss: 2.7149... ppl: 38.0770  Val Loss: 3.6396\n",
            "Epoch: 10/10... Step: 21600... Loss: 2.3530... ppl: 37.9601  Val Loss: 3.6365\n",
            "Epoch: 10/10... Step: 21632... Loss: 2.4270... ppl: 37.8571  Val Loss: 3.6338\n",
            "Epoch: 10/10... Step: 21664... Loss: 2.5251... ppl: 37.6805  Val Loss: 3.6291\n",
            "Epoch: 10/10... Step: 21696... Loss: 2.9537... ppl: 37.9504  Val Loss: 3.6363\n",
            "Epoch: 10/10... Step: 21728... Loss: 2.4200... ppl: 37.9830  Val Loss: 3.6371\n",
            "Epoch: 10/10... Step: 21760... Loss: 2.1751... ppl: 37.9489  Val Loss: 3.6362\n",
            "Epoch: 10/10... Step: 21792... Loss: 2.3424... ppl: 38.0144  Val Loss: 3.6380\n",
            "Epoch: 10/10... Step: 21824... Loss: 2.3478... ppl: 37.9714  Val Loss: 3.6368\n",
            "Epoch: 10/10... Step: 21856... Loss: 2.6434... ppl: 37.8002  Val Loss: 3.6323\n",
            "Epoch: 10/10... Step: 21888... Loss: 2.3599... ppl: 37.7707  Val Loss: 3.6315\n",
            "Epoch: 10/10... Step: 21920... Loss: 3.0388... ppl: 37.8823  Val Loss: 3.6345\n",
            "Epoch: 10/10... Step: 21952... Loss: 2.7156... ppl: 38.2429  Val Loss: 3.6440\n",
            "Epoch: 10/10... Step: 21984... Loss: 1.9527... ppl: 37.6777  Val Loss: 3.6291\n",
            "Epoch: 10/10... Step: 22016... Loss: 2.6167... ppl: 37.4880  Val Loss: 3.6240\n",
            "Epoch: 10/10... Step: 22048... Loss: 2.2086... ppl: 37.8102  Val Loss: 3.6326\n",
            "Epoch: 10/10... Step: 22080... Loss: 2.7796... ppl: 37.7818  Val Loss: 3.6318\n",
            "Epoch: 10/10... Step: 22112... Loss: 2.0635... ppl: 37.5767  Val Loss: 3.6264\n",
            "Epoch: 10/10... Step: 22144... Loss: 2.1874... ppl: 37.9570  Val Loss: 3.6365\n",
            "Epoch: 10/10... Step: 22176... Loss: 2.2845... ppl: 37.8510  Val Loss: 3.6337\n",
            "Epoch: 10/10... Step: 22208... Loss: 2.8875... ppl: 37.6123  Val Loss: 3.6273\n",
            "Epoch: 10/10... Step: 22240... Loss: 2.6024... ppl: 37.9309  Val Loss: 3.6358\n",
            "Epoch: 10/10... Step: 22272... Loss: 2.6754... ppl: 37.4708  Val Loss: 3.6236\n",
            "Epoch: 10/10... Step: 22304... Loss: 2.7647... ppl: 37.4677  Val Loss: 3.6235\n",
            "Epoch: 10/10... Step: 22336... Loss: 2.4041... ppl: 37.6104  Val Loss: 3.6273\n",
            "Epoch: 10/10... Step: 22368... Loss: 2.9658... ppl: 37.5649  Val Loss: 3.6261\n",
            "Epoch: 10/10... Step: 22400... Loss: 2.4695... ppl: 37.6308  Val Loss: 3.6278\n",
            "Epoch: 10/10... Step: 22432... Loss: 2.3376... ppl: 37.7163  Val Loss: 3.6301\n",
            "Epoch: 10/10... Step: 22464... Loss: 1.8441... ppl: 38.0973  Val Loss: 3.6401\n",
            "Epoch: 10/10... Step: 22496... Loss: 2.4390... ppl: 37.7484  Val Loss: 3.6309\n",
            "Epoch: 10/10... Step: 22528... Loss: 2.8742... ppl: 37.7789  Val Loss: 3.6318\n",
            "Epoch: 10/10... Step: 22560... Loss: 2.5486... ppl: 37.7676  Val Loss: 3.6315\n",
            "Epoch: 10/10... Step: 22592... Loss: 2.2753... ppl: 37.5478  Val Loss: 3.6256\n",
            "Epoch: 10/10... Step: 22624... Loss: 2.7701... ppl: 37.6715  Val Loss: 3.6289\n",
            "Epoch: 10/10... Step: 22656... Loss: 2.3617... ppl: 37.8740  Val Loss: 3.6343\n",
            "Epoch: 10/10... Step: 22688... Loss: 2.8261... ppl: 37.8041  Val Loss: 3.6324\n",
            "Epoch: 10/10... Step: 22720... Loss: 2.4355... ppl: 37.8216  Val Loss: 3.6329\n",
            "Epoch: 10/10... Step: 22752... Loss: 2.8539... ppl: 37.5659  Val Loss: 3.6261\n",
            "Epoch: 10/10... Step: 22784... Loss: 2.8056... ppl: 37.9623  Val Loss: 3.6366\n",
            "Epoch: 10/10... Step: 22816... Loss: 2.6595... ppl: 37.6673  Val Loss: 3.6288\n",
            "Epoch: 10/10... Step: 22848... Loss: 2.8340... ppl: 37.5631  Val Loss: 3.6260\n",
            "Epoch: 10/10... Step: 22880... Loss: 2.1062... ppl: 37.7537  Val Loss: 3.6311\n",
            "Epoch: 10/10... Step: 22912... Loss: 1.9675... ppl: 37.9146  Val Loss: 3.6353\n",
            "Epoch: 10/10... Step: 22944... Loss: 2.7610... ppl: 37.7113  Val Loss: 3.6300\n",
            "Epoch: 10/10... Step: 22976... Loss: 2.3896... ppl: 37.5501  Val Loss: 3.6257\n",
            "Epoch: 10/10... Step: 23008... Loss: 2.6659... ppl: 37.7216  Val Loss: 3.6302\n",
            "Epoch: 10/10... Step: 23040... Loss: 2.3298... ppl: 37.4414  Val Loss: 3.6228\n",
            "Epoch: 10/10... Step: 23072... Loss: 2.6305... ppl: 37.7111  Val Loss: 3.6300\n",
            "Epoch: 10/10... Step: 23104... Loss: 2.5767... ppl: 37.8357  Val Loss: 3.6333\n",
            "Epoch: 10/10... Step: 23136... Loss: 2.4932... ppl: 37.6785  Val Loss: 3.6291\n",
            "Epoch: 10/10... Step: 23168... Loss: 2.5387... ppl: 37.7200  Val Loss: 3.6302\n",
            "Epoch: 10/10... Step: 23200... Loss: 2.1863... ppl: 37.9726  Val Loss: 3.6369\n",
            "Epoch: 10/10... Step: 23232... Loss: 2.3946... ppl: 37.9876  Val Loss: 3.6373\n",
            "Epoch: 10/10... Step: 23264... Loss: 2.5276... ppl: 37.8119  Val Loss: 3.6326\n",
            "Epoch: 10/10... Step: 23296... Loss: 2.5345... ppl: 37.7971  Val Loss: 3.6322\n",
            "Epoch: 10/10... Step: 23328... Loss: 2.4488... ppl: 38.3144  Val Loss: 3.6458\n",
            "Epoch: 10/10... Step: 23360... Loss: 2.9335... ppl: 38.3716  Val Loss: 3.6473\n",
            "Epoch: 10/10... Step: 23392... Loss: 2.8410... ppl: 37.9879  Val Loss: 3.6373\n",
            "Epoch: 10/10... Step: 23424... Loss: 2.0858... ppl: 37.7313  Val Loss: 3.6305\n"
          ]
        }
      ]
    },
    {
      "cell_type": "markdown",
      "metadata": {
        "id": "rQ6leiAm0Wmn"
      },
      "source": [
        "# 6. Text Generation"
      ]
    },
    {
      "cell_type": "code",
      "metadata": {
        "id": "FPoIBPQpgqZy",
        "colab": {
          "base_uri": "https://localhost:8080/"
        },
        "outputId": "bbce87a5-2675-4e25-f91b-e3cf2d7810db"
      },
      "source": [
        "#load weights of best model\n",
        "path = 'saved_weights.pt'\n",
        "net.load_state_dict(torch.load(path))"
      ],
      "execution_count": 50,
      "outputs": [
        {
          "output_type": "execute_result",
          "data": {
            "text/plain": [
              "<All keys matched successfully>"
            ]
          },
          "metadata": {},
          "execution_count": 50
        }
      ]
    },
    {
      "cell_type": "code",
      "metadata": {
        "id": "bch2a0WglQ96"
      },
      "source": [
        "# function to generate one token\n",
        "def predict(net, tkn, h=None):\n",
        "\n",
        "  # tensor inputs\n",
        "  x = np.array([[token2int[tkn]]])\n",
        "  inputs = torch.from_numpy(x)\n",
        "\n",
        "  if(torch.cuda.is_available()):\n",
        "      inputs = inputs.cuda()\n",
        "\n",
        "  # get the output of the model\n",
        "  out, h = net(inputs, h)\n",
        "\n",
        "  # get the token probabilities\n",
        "  p = F.softmax(out, dim=1).data\n",
        "\n",
        "  if(torch.cuda.is_available()):\n",
        "      p = p.cpu()\n",
        "\n",
        "  p = p.numpy()\n",
        "  sampled_token_index = np.argmax(p, axis = 1)[0]\n",
        "\n",
        "  # return the encoded value of the predicted char and the hidden state\n",
        "  return int2token[sampled_token_index], h"
      ],
      "execution_count": 51,
      "outputs": []
    },
    {
      "cell_type": "code",
      "metadata": {
        "id": "EQR-euTiFan9"
      },
      "source": [
        "# function to fetch generated sequence\n",
        "def sample(net, size = 2, seed_text='it is'):\n",
        "\n",
        "    if(torch.cuda.is_available()):\n",
        "        net.cuda()\n",
        "\n",
        "    net.eval()\n",
        "\n",
        "    # batch size is 1\n",
        "    h = net.init_hidden(1)\n",
        "\n",
        "    toks = seed_text.split()\n",
        "\n",
        "    # predict next token\n",
        "    for t in toks:\n",
        "      token, h = predict(net, t, h)\n",
        "\n",
        "    toks.append(token)\n",
        "\n",
        "    # predict subsequent tokens\n",
        "    for i in range(size-1):\n",
        "        token, h = predict(net, toks[-1], h)\n",
        "        toks.append(token)\n",
        "\n",
        "    return ' '.join(toks)"
      ],
      "execution_count": 52,
      "outputs": []
    },
    {
      "cell_type": "code",
      "metadata": {
        "id": "VSakRw3SHRv2",
        "colab": {
          "base_uri": "https://localhost:8080/"
        },
        "outputId": "ffafc59e-c97d-4810-a4fa-02fd54f8aad9"
      },
      "source": [
        "# seed texts\n",
        "seeds = [\"i want to\",\n",
        "         \"how about a cup\",\n",
        "         \"i don't want\",\n",
        "         \"can you send\",\n",
        "         \"i need\"]\n",
        "\n",
        "# number of tokens to generate\n",
        "num_toks = 6\n",
        "\n",
        "# text generation\n",
        "for s in seeds:\n",
        "  # get generated text from the model\n",
        "  text_gen = sample(net, num_toks, seed_text=s)\n",
        "  # print the result\n",
        "  print(\"seed text:\", s, \">> output:\",text_gen)\n",
        "  print(\"\\n\")"
      ],
      "execution_count": 55,
      "outputs": [
        {
          "output_type": "stream",
          "name": "stdout",
          "text": [
            "seed text: i want to >> output: i want to order a coffee from starbucks for\n",
            "\n",
            "\n",
            "seed text: how about a cup >> output: how about a cup of coffee please for me at\n",
            "\n",
            "\n",
            "seed text: i don't want >> output: i don't want to be late for my friend\n",
            "\n",
            "\n",
            "seed text: can you send >> output: can you send the receipt to my phone so\n",
            "\n",
            "\n",
            "seed text: i need >> output: i need to order a coffee drink from\n",
            "\n",
            "\n"
          ]
        }
      ]
    },
    {
      "cell_type": "code",
      "metadata": {
        "id": "-x61pT-Zodg3"
      },
      "source": [],
      "execution_count": 53,
      "outputs": []
    }
  ]
}